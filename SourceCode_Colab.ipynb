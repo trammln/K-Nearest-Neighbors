{
  "nbformat": 4,
  "nbformat_minor": 0,
  "metadata": {
    "colab": {
      "provenance": [],
      "toc_visible": true
    },
    "kernelspec": {
      "name": "python3",
      "display_name": "Python 3"
    },
    "language_info": {
      "name": "python"
    }
  },
  "cells": [
    {
      "cell_type": "code",
      "execution_count": null,
      "metadata": {
        "colab": {
          "base_uri": "https://localhost:8080/"
        },
        "id": "5y7XHHELJf_r",
        "outputId": "c8000424-4f7b-45fe-889c-02e486712d13"
      },
      "outputs": [
        {
          "output_type": "stream",
          "name": "stdout",
          "text": [
            "Mounted at /content/drive\n"
          ]
        }
      ],
      "source": [
        "from google.colab import drive\n",
        "drive.mount ('/content/drive')"
      ]
    },
    {
      "cell_type": "code",
      "source": [
        "import numpy as np\n",
        "import matplotlib.pyplot as plt\n",
        "import pandas as pd\n",
        "import sklearn\n",
        "import seaborn as sns"
      ],
      "metadata": {
        "id": "Ub56ulmoJnTY"
      },
      "execution_count": null,
      "outputs": []
    },
    {
      "cell_type": "code",
      "source": [
        "social_network_ads = pd.read_csv('/content/drive/Shareddrives/NHÓM HỌC TẬP /NĂM 3/PHÂN TÍCH DỮ LIỆU VỚI R PYTHON/SEMINAR/PHẦN 2: CASE STUDY/SEMINAR DATA/Social_Network_Ads.csv', encoding= 'unicode_escape')\n",
        "print(social_network_ads)"
      ],
      "metadata": {
        "colab": {
          "base_uri": "https://localhost:8080/"
        },
        "id": "GuMkb6nPJq4J",
        "outputId": "9379c325-d00f-45e3-bcfd-dbcfdaf7d3c0"
      },
      "execution_count": null,
      "outputs": [
        {
          "output_type": "stream",
          "name": "stdout",
          "text": [
            "      User ID  Gender  Age  EstimatedSalary  Purchased\n",
            "0    15624510    Male   19            19000          0\n",
            "1    15810944    Male   35            20000          0\n",
            "2    15668575  Female   26            43000          0\n",
            "3    15603246  Female   27            57000          0\n",
            "4    15804002    Male   19            76000          0\n",
            "..        ...     ...  ...              ...        ...\n",
            "395  15691863  Female   46            41000          1\n",
            "396  15706071    Male   51            23000          1\n",
            "397  15654296  Female   50            20000          1\n",
            "398  15755018    Male   36            33000          0\n",
            "399  15594041  Female   49            36000          1\n",
            "\n",
            "[400 rows x 5 columns]\n"
          ]
        }
      ]
    },
    {
      "cell_type": "code",
      "source": [
        "#Model before EDA\n",
        "X = social_network_ads.iloc[:, :-1].values\n",
        "y = social_network_ads.iloc[:, -1].values\n",
        "\n",
        "from sklearn.preprocessing import LabelEncoder\n",
        "le = LabelEncoder()\n",
        "X[:,1] = le.fit_transform(X[:,1])\n",
        "\n",
        "from sklearn.model_selection import train_test_split\n",
        "X_train, X_test, y_train, y_test = train_test_split(X, y, test_size = 0.20, random_state = 0)\n",
        "\n",
        "from sklearn.neighbors import KNeighborsClassifier\n",
        "classifier = KNeighborsClassifier(n_neighbors = 5, metric = 'minkowski', p = 2)\n",
        "classifier.fit(X_train, y_train)\n",
        "\n",
        "y_pred = classifier.predict(X_test)\n",
        "\n",
        "from sklearn.metrics import confusion_matrix,accuracy_score\n",
        "cm = confusion_matrix(y_test, y_pred)\n",
        "ac = accuracy_score(y_test,y_pred)\n",
        "ac"
      ],
      "metadata": {
        "colab": {
          "base_uri": "https://localhost:8080/"
        },
        "id": "g_XViJG0JtOu",
        "outputId": "05b67693-5d7a-4ba2-ee1d-559c741a1cf9"
      },
      "execution_count": null,
      "outputs": [
        {
          "output_type": "execute_result",
          "data": {
            "text/plain": [
              "0.675"
            ]
          },
          "metadata": {},
          "execution_count": 4
        }
      ]
    },
    {
      "cell_type": "markdown",
      "source": [
        "# 2.4.1 Phân tích và khai thác dữ liệu EDA "
      ],
      "metadata": {
        "id": "ELjFDx7VK7dI"
      }
    },
    {
      "cell_type": "code",
      "source": [
        "social_network_ads"
      ],
      "metadata": {
        "colab": {
          "base_uri": "https://localhost:8080/",
          "height": 423
        },
        "id": "a3DthvYlK772",
        "outputId": "97c7c0e9-ad3b-4906-c229-e680c1385035"
      },
      "execution_count": null,
      "outputs": [
        {
          "output_type": "execute_result",
          "data": {
            "text/plain": [
              "      User ID  Gender  Age  EstimatedSalary  Purchased\n",
              "0    15624510    Male   19            19000          0\n",
              "1    15810944    Male   35            20000          0\n",
              "2    15668575  Female   26            43000          0\n",
              "3    15603246  Female   27            57000          0\n",
              "4    15804002    Male   19            76000          0\n",
              "..        ...     ...  ...              ...        ...\n",
              "395  15691863  Female   46            41000          1\n",
              "396  15706071    Male   51            23000          1\n",
              "397  15654296  Female   50            20000          1\n",
              "398  15755018    Male   36            33000          0\n",
              "399  15594041  Female   49            36000          1\n",
              "\n",
              "[400 rows x 5 columns]"
            ],
            "text/html": [
              "\n",
              "  <div id=\"df-c65e1c5d-8a7e-4a08-a56c-1b9c8760bbdf\">\n",
              "    <div class=\"colab-df-container\">\n",
              "      <div>\n",
              "<style scoped>\n",
              "    .dataframe tbody tr th:only-of-type {\n",
              "        vertical-align: middle;\n",
              "    }\n",
              "\n",
              "    .dataframe tbody tr th {\n",
              "        vertical-align: top;\n",
              "    }\n",
              "\n",
              "    .dataframe thead th {\n",
              "        text-align: right;\n",
              "    }\n",
              "</style>\n",
              "<table border=\"1\" class=\"dataframe\">\n",
              "  <thead>\n",
              "    <tr style=\"text-align: right;\">\n",
              "      <th></th>\n",
              "      <th>User ID</th>\n",
              "      <th>Gender</th>\n",
              "      <th>Age</th>\n",
              "      <th>EstimatedSalary</th>\n",
              "      <th>Purchased</th>\n",
              "    </tr>\n",
              "  </thead>\n",
              "  <tbody>\n",
              "    <tr>\n",
              "      <th>0</th>\n",
              "      <td>15624510</td>\n",
              "      <td>Male</td>\n",
              "      <td>19</td>\n",
              "      <td>19000</td>\n",
              "      <td>0</td>\n",
              "    </tr>\n",
              "    <tr>\n",
              "      <th>1</th>\n",
              "      <td>15810944</td>\n",
              "      <td>Male</td>\n",
              "      <td>35</td>\n",
              "      <td>20000</td>\n",
              "      <td>0</td>\n",
              "    </tr>\n",
              "    <tr>\n",
              "      <th>2</th>\n",
              "      <td>15668575</td>\n",
              "      <td>Female</td>\n",
              "      <td>26</td>\n",
              "      <td>43000</td>\n",
              "      <td>0</td>\n",
              "    </tr>\n",
              "    <tr>\n",
              "      <th>3</th>\n",
              "      <td>15603246</td>\n",
              "      <td>Female</td>\n",
              "      <td>27</td>\n",
              "      <td>57000</td>\n",
              "      <td>0</td>\n",
              "    </tr>\n",
              "    <tr>\n",
              "      <th>4</th>\n",
              "      <td>15804002</td>\n",
              "      <td>Male</td>\n",
              "      <td>19</td>\n",
              "      <td>76000</td>\n",
              "      <td>0</td>\n",
              "    </tr>\n",
              "    <tr>\n",
              "      <th>...</th>\n",
              "      <td>...</td>\n",
              "      <td>...</td>\n",
              "      <td>...</td>\n",
              "      <td>...</td>\n",
              "      <td>...</td>\n",
              "    </tr>\n",
              "    <tr>\n",
              "      <th>395</th>\n",
              "      <td>15691863</td>\n",
              "      <td>Female</td>\n",
              "      <td>46</td>\n",
              "      <td>41000</td>\n",
              "      <td>1</td>\n",
              "    </tr>\n",
              "    <tr>\n",
              "      <th>396</th>\n",
              "      <td>15706071</td>\n",
              "      <td>Male</td>\n",
              "      <td>51</td>\n",
              "      <td>23000</td>\n",
              "      <td>1</td>\n",
              "    </tr>\n",
              "    <tr>\n",
              "      <th>397</th>\n",
              "      <td>15654296</td>\n",
              "      <td>Female</td>\n",
              "      <td>50</td>\n",
              "      <td>20000</td>\n",
              "      <td>1</td>\n",
              "    </tr>\n",
              "    <tr>\n",
              "      <th>398</th>\n",
              "      <td>15755018</td>\n",
              "      <td>Male</td>\n",
              "      <td>36</td>\n",
              "      <td>33000</td>\n",
              "      <td>0</td>\n",
              "    </tr>\n",
              "    <tr>\n",
              "      <th>399</th>\n",
              "      <td>15594041</td>\n",
              "      <td>Female</td>\n",
              "      <td>49</td>\n",
              "      <td>36000</td>\n",
              "      <td>1</td>\n",
              "    </tr>\n",
              "  </tbody>\n",
              "</table>\n",
              "<p>400 rows × 5 columns</p>\n",
              "</div>\n",
              "      <button class=\"colab-df-convert\" onclick=\"convertToInteractive('df-c65e1c5d-8a7e-4a08-a56c-1b9c8760bbdf')\"\n",
              "              title=\"Convert this dataframe to an interactive table.\"\n",
              "              style=\"display:none;\">\n",
              "        \n",
              "  <svg xmlns=\"http://www.w3.org/2000/svg\" height=\"24px\"viewBox=\"0 0 24 24\"\n",
              "       width=\"24px\">\n",
              "    <path d=\"M0 0h24v24H0V0z\" fill=\"none\"/>\n",
              "    <path d=\"M18.56 5.44l.94 2.06.94-2.06 2.06-.94-2.06-.94-.94-2.06-.94 2.06-2.06.94zm-11 1L8.5 8.5l.94-2.06 2.06-.94-2.06-.94L8.5 2.5l-.94 2.06-2.06.94zm10 10l.94 2.06.94-2.06 2.06-.94-2.06-.94-.94-2.06-.94 2.06-2.06.94z\"/><path d=\"M17.41 7.96l-1.37-1.37c-.4-.4-.92-.59-1.43-.59-.52 0-1.04.2-1.43.59L10.3 9.45l-7.72 7.72c-.78.78-.78 2.05 0 2.83L4 21.41c.39.39.9.59 1.41.59.51 0 1.02-.2 1.41-.59l7.78-7.78 2.81-2.81c.8-.78.8-2.07 0-2.86zM5.41 20L4 18.59l7.72-7.72 1.47 1.35L5.41 20z\"/>\n",
              "  </svg>\n",
              "      </button>\n",
              "      \n",
              "  <style>\n",
              "    .colab-df-container {\n",
              "      display:flex;\n",
              "      flex-wrap:wrap;\n",
              "      gap: 12px;\n",
              "    }\n",
              "\n",
              "    .colab-df-convert {\n",
              "      background-color: #E8F0FE;\n",
              "      border: none;\n",
              "      border-radius: 50%;\n",
              "      cursor: pointer;\n",
              "      display: none;\n",
              "      fill: #1967D2;\n",
              "      height: 32px;\n",
              "      padding: 0 0 0 0;\n",
              "      width: 32px;\n",
              "    }\n",
              "\n",
              "    .colab-df-convert:hover {\n",
              "      background-color: #E2EBFA;\n",
              "      box-shadow: 0px 1px 2px rgba(60, 64, 67, 0.3), 0px 1px 3px 1px rgba(60, 64, 67, 0.15);\n",
              "      fill: #174EA6;\n",
              "    }\n",
              "\n",
              "    [theme=dark] .colab-df-convert {\n",
              "      background-color: #3B4455;\n",
              "      fill: #D2E3FC;\n",
              "    }\n",
              "\n",
              "    [theme=dark] .colab-df-convert:hover {\n",
              "      background-color: #434B5C;\n",
              "      box-shadow: 0px 1px 3px 1px rgba(0, 0, 0, 0.15);\n",
              "      filter: drop-shadow(0px 1px 2px rgba(0, 0, 0, 0.3));\n",
              "      fill: #FFFFFF;\n",
              "    }\n",
              "  </style>\n",
              "\n",
              "      <script>\n",
              "        const buttonEl =\n",
              "          document.querySelector('#df-c65e1c5d-8a7e-4a08-a56c-1b9c8760bbdf button.colab-df-convert');\n",
              "        buttonEl.style.display =\n",
              "          google.colab.kernel.accessAllowed ? 'block' : 'none';\n",
              "\n",
              "        async function convertToInteractive(key) {\n",
              "          const element = document.querySelector('#df-c65e1c5d-8a7e-4a08-a56c-1b9c8760bbdf');\n",
              "          const dataTable =\n",
              "            await google.colab.kernel.invokeFunction('convertToInteractive',\n",
              "                                                     [key], {});\n",
              "          if (!dataTable) return;\n",
              "\n",
              "          const docLinkHtml = 'Like what you see? Visit the ' +\n",
              "            '<a target=\"_blank\" href=https://colab.research.google.com/notebooks/data_table.ipynb>data table notebook</a>'\n",
              "            + ' to learn more about interactive tables.';\n",
              "          element.innerHTML = '';\n",
              "          dataTable['output_type'] = 'display_data';\n",
              "          await google.colab.output.renderOutput(dataTable, element);\n",
              "          const docLink = document.createElement('div');\n",
              "          docLink.innerHTML = docLinkHtml;\n",
              "          element.appendChild(docLink);\n",
              "        }\n",
              "      </script>\n",
              "    </div>\n",
              "  </div>\n",
              "  "
            ]
          },
          "metadata": {},
          "execution_count": 5
        }
      ]
    },
    {
      "cell_type": "code",
      "source": [
        "#check thông tin bộ dữ liệu, kiểu dữ liệu, xem có giá trị null không?\n",
        "social_network_ads.info()"
      ],
      "metadata": {
        "colab": {
          "base_uri": "https://localhost:8080/"
        },
        "id": "xK98uzsjK_QM",
        "outputId": "761c789b-cf91-4021-f1e7-f4345a62166e"
      },
      "execution_count": null,
      "outputs": [
        {
          "output_type": "stream",
          "name": "stdout",
          "text": [
            "<class 'pandas.core.frame.DataFrame'>\n",
            "RangeIndex: 400 entries, 0 to 399\n",
            "Data columns (total 5 columns):\n",
            " #   Column           Non-Null Count  Dtype \n",
            "---  ------           --------------  ----- \n",
            " 0   User ID          400 non-null    int64 \n",
            " 1   Gender           400 non-null    object\n",
            " 2   Age              400 non-null    int64 \n",
            " 3   EstimatedSalary  400 non-null    int64 \n",
            " 4   Purchased        400 non-null    int64 \n",
            "dtypes: int64(4), object(1)\n",
            "memory usage: 15.8+ KB\n"
          ]
        }
      ]
    },
    {
      "cell_type": "code",
      "source": [
        "#check xem có giá trị bị thiếu không?\n",
        "social_network_ads.isna().sum()"
      ],
      "metadata": {
        "colab": {
          "base_uri": "https://localhost:8080/"
        },
        "id": "x1chd856LBQd",
        "outputId": "bb16dc74-f464-436b-e128-9fd314132d59"
      },
      "execution_count": null,
      "outputs": [
        {
          "output_type": "execute_result",
          "data": {
            "text/plain": [
              "User ID            0\n",
              "Gender             0\n",
              "Age                0\n",
              "EstimatedSalary    0\n",
              "Purchased          0\n",
              "dtype: int64"
            ]
          },
          "metadata": {},
          "execution_count": 7
        }
      ]
    },
    {
      "cell_type": "code",
      "source": [
        "#check xem dữ liệu có duplicated hay không?\n",
        "social_network_ads.duplicated().sum()"
      ],
      "metadata": {
        "colab": {
          "base_uri": "https://localhost:8080/"
        },
        "id": "dfO0IhyjLDat",
        "outputId": "d6b61c16-129c-4bd7-ba19-0175a67e97e8"
      },
      "execution_count": null,
      "outputs": [
        {
          "output_type": "execute_result",
          "data": {
            "text/plain": [
              "0"
            ]
          },
          "metadata": {},
          "execution_count": 8
        }
      ]
    },
    {
      "cell_type": "code",
      "source": [
        "#Xóa cột User ID\n",
        "social_network_ads.drop('User ID', axis = 1, inplace=True)"
      ],
      "metadata": {
        "id": "FY3Ohb83LFZX"
      },
      "execution_count": null,
      "outputs": []
    },
    {
      "cell_type": "code",
      "source": [
        "social_network_ads"
      ],
      "metadata": {
        "colab": {
          "base_uri": "https://localhost:8080/",
          "height": 423
        },
        "id": "4CGZk8unLHEM",
        "outputId": "8a3330f2-0679-4561-e96e-5e0714ef6ef9"
      },
      "execution_count": null,
      "outputs": [
        {
          "output_type": "execute_result",
          "data": {
            "text/plain": [
              "     Gender  Age  EstimatedSalary  Purchased\n",
              "0      Male   19            19000          0\n",
              "1      Male   35            20000          0\n",
              "2    Female   26            43000          0\n",
              "3    Female   27            57000          0\n",
              "4      Male   19            76000          0\n",
              "..      ...  ...              ...        ...\n",
              "395  Female   46            41000          1\n",
              "396    Male   51            23000          1\n",
              "397  Female   50            20000          1\n",
              "398    Male   36            33000          0\n",
              "399  Female   49            36000          1\n",
              "\n",
              "[400 rows x 4 columns]"
            ],
            "text/html": [
              "\n",
              "  <div id=\"df-00cdd986-ac42-4d89-bad7-3b3e9b02a516\">\n",
              "    <div class=\"colab-df-container\">\n",
              "      <div>\n",
              "<style scoped>\n",
              "    .dataframe tbody tr th:only-of-type {\n",
              "        vertical-align: middle;\n",
              "    }\n",
              "\n",
              "    .dataframe tbody tr th {\n",
              "        vertical-align: top;\n",
              "    }\n",
              "\n",
              "    .dataframe thead th {\n",
              "        text-align: right;\n",
              "    }\n",
              "</style>\n",
              "<table border=\"1\" class=\"dataframe\">\n",
              "  <thead>\n",
              "    <tr style=\"text-align: right;\">\n",
              "      <th></th>\n",
              "      <th>Gender</th>\n",
              "      <th>Age</th>\n",
              "      <th>EstimatedSalary</th>\n",
              "      <th>Purchased</th>\n",
              "    </tr>\n",
              "  </thead>\n",
              "  <tbody>\n",
              "    <tr>\n",
              "      <th>0</th>\n",
              "      <td>Male</td>\n",
              "      <td>19</td>\n",
              "      <td>19000</td>\n",
              "      <td>0</td>\n",
              "    </tr>\n",
              "    <tr>\n",
              "      <th>1</th>\n",
              "      <td>Male</td>\n",
              "      <td>35</td>\n",
              "      <td>20000</td>\n",
              "      <td>0</td>\n",
              "    </tr>\n",
              "    <tr>\n",
              "      <th>2</th>\n",
              "      <td>Female</td>\n",
              "      <td>26</td>\n",
              "      <td>43000</td>\n",
              "      <td>0</td>\n",
              "    </tr>\n",
              "    <tr>\n",
              "      <th>3</th>\n",
              "      <td>Female</td>\n",
              "      <td>27</td>\n",
              "      <td>57000</td>\n",
              "      <td>0</td>\n",
              "    </tr>\n",
              "    <tr>\n",
              "      <th>4</th>\n",
              "      <td>Male</td>\n",
              "      <td>19</td>\n",
              "      <td>76000</td>\n",
              "      <td>0</td>\n",
              "    </tr>\n",
              "    <tr>\n",
              "      <th>...</th>\n",
              "      <td>...</td>\n",
              "      <td>...</td>\n",
              "      <td>...</td>\n",
              "      <td>...</td>\n",
              "    </tr>\n",
              "    <tr>\n",
              "      <th>395</th>\n",
              "      <td>Female</td>\n",
              "      <td>46</td>\n",
              "      <td>41000</td>\n",
              "      <td>1</td>\n",
              "    </tr>\n",
              "    <tr>\n",
              "      <th>396</th>\n",
              "      <td>Male</td>\n",
              "      <td>51</td>\n",
              "      <td>23000</td>\n",
              "      <td>1</td>\n",
              "    </tr>\n",
              "    <tr>\n",
              "      <th>397</th>\n",
              "      <td>Female</td>\n",
              "      <td>50</td>\n",
              "      <td>20000</td>\n",
              "      <td>1</td>\n",
              "    </tr>\n",
              "    <tr>\n",
              "      <th>398</th>\n",
              "      <td>Male</td>\n",
              "      <td>36</td>\n",
              "      <td>33000</td>\n",
              "      <td>0</td>\n",
              "    </tr>\n",
              "    <tr>\n",
              "      <th>399</th>\n",
              "      <td>Female</td>\n",
              "      <td>49</td>\n",
              "      <td>36000</td>\n",
              "      <td>1</td>\n",
              "    </tr>\n",
              "  </tbody>\n",
              "</table>\n",
              "<p>400 rows × 4 columns</p>\n",
              "</div>\n",
              "      <button class=\"colab-df-convert\" onclick=\"convertToInteractive('df-00cdd986-ac42-4d89-bad7-3b3e9b02a516')\"\n",
              "              title=\"Convert this dataframe to an interactive table.\"\n",
              "              style=\"display:none;\">\n",
              "        \n",
              "  <svg xmlns=\"http://www.w3.org/2000/svg\" height=\"24px\"viewBox=\"0 0 24 24\"\n",
              "       width=\"24px\">\n",
              "    <path d=\"M0 0h24v24H0V0z\" fill=\"none\"/>\n",
              "    <path d=\"M18.56 5.44l.94 2.06.94-2.06 2.06-.94-2.06-.94-.94-2.06-.94 2.06-2.06.94zm-11 1L8.5 8.5l.94-2.06 2.06-.94-2.06-.94L8.5 2.5l-.94 2.06-2.06.94zm10 10l.94 2.06.94-2.06 2.06-.94-2.06-.94-.94-2.06-.94 2.06-2.06.94z\"/><path d=\"M17.41 7.96l-1.37-1.37c-.4-.4-.92-.59-1.43-.59-.52 0-1.04.2-1.43.59L10.3 9.45l-7.72 7.72c-.78.78-.78 2.05 0 2.83L4 21.41c.39.39.9.59 1.41.59.51 0 1.02-.2 1.41-.59l7.78-7.78 2.81-2.81c.8-.78.8-2.07 0-2.86zM5.41 20L4 18.59l7.72-7.72 1.47 1.35L5.41 20z\"/>\n",
              "  </svg>\n",
              "      </button>\n",
              "      \n",
              "  <style>\n",
              "    .colab-df-container {\n",
              "      display:flex;\n",
              "      flex-wrap:wrap;\n",
              "      gap: 12px;\n",
              "    }\n",
              "\n",
              "    .colab-df-convert {\n",
              "      background-color: #E8F0FE;\n",
              "      border: none;\n",
              "      border-radius: 50%;\n",
              "      cursor: pointer;\n",
              "      display: none;\n",
              "      fill: #1967D2;\n",
              "      height: 32px;\n",
              "      padding: 0 0 0 0;\n",
              "      width: 32px;\n",
              "    }\n",
              "\n",
              "    .colab-df-convert:hover {\n",
              "      background-color: #E2EBFA;\n",
              "      box-shadow: 0px 1px 2px rgba(60, 64, 67, 0.3), 0px 1px 3px 1px rgba(60, 64, 67, 0.15);\n",
              "      fill: #174EA6;\n",
              "    }\n",
              "\n",
              "    [theme=dark] .colab-df-convert {\n",
              "      background-color: #3B4455;\n",
              "      fill: #D2E3FC;\n",
              "    }\n",
              "\n",
              "    [theme=dark] .colab-df-convert:hover {\n",
              "      background-color: #434B5C;\n",
              "      box-shadow: 0px 1px 3px 1px rgba(0, 0, 0, 0.15);\n",
              "      filter: drop-shadow(0px 1px 2px rgba(0, 0, 0, 0.3));\n",
              "      fill: #FFFFFF;\n",
              "    }\n",
              "  </style>\n",
              "\n",
              "      <script>\n",
              "        const buttonEl =\n",
              "          document.querySelector('#df-00cdd986-ac42-4d89-bad7-3b3e9b02a516 button.colab-df-convert');\n",
              "        buttonEl.style.display =\n",
              "          google.colab.kernel.accessAllowed ? 'block' : 'none';\n",
              "\n",
              "        async function convertToInteractive(key) {\n",
              "          const element = document.querySelector('#df-00cdd986-ac42-4d89-bad7-3b3e9b02a516');\n",
              "          const dataTable =\n",
              "            await google.colab.kernel.invokeFunction('convertToInteractive',\n",
              "                                                     [key], {});\n",
              "          if (!dataTable) return;\n",
              "\n",
              "          const docLinkHtml = 'Like what you see? Visit the ' +\n",
              "            '<a target=\"_blank\" href=https://colab.research.google.com/notebooks/data_table.ipynb>data table notebook</a>'\n",
              "            + ' to learn more about interactive tables.';\n",
              "          element.innerHTML = '';\n",
              "          dataTable['output_type'] = 'display_data';\n",
              "          await google.colab.output.renderOutput(dataTable, element);\n",
              "          const docLink = document.createElement('div');\n",
              "          docLink.innerHTML = docLinkHtml;\n",
              "          element.appendChild(docLink);\n",
              "        }\n",
              "      </script>\n",
              "    </div>\n",
              "  </div>\n",
              "  "
            ]
          },
          "metadata": {},
          "execution_count": 10
        }
      ]
    },
    {
      "cell_type": "code",
      "source": [
        "#Tổng quan về dữ liệu\n",
        "social_network_ads.describe()"
      ],
      "metadata": {
        "colab": {
          "base_uri": "https://localhost:8080/",
          "height": 300
        },
        "id": "PPXdXydmLJEs",
        "outputId": "5c8af392-e9e0-4337-f91f-584150a5a8bc"
      },
      "execution_count": null,
      "outputs": [
        {
          "output_type": "execute_result",
          "data": {
            "text/plain": [
              "              Age  EstimatedSalary   Purchased\n",
              "count  400.000000       400.000000  400.000000\n",
              "mean    37.655000     69742.500000    0.357500\n",
              "std     10.482877     34096.960282    0.479864\n",
              "min     18.000000     15000.000000    0.000000\n",
              "25%     29.750000     43000.000000    0.000000\n",
              "50%     37.000000     70000.000000    0.000000\n",
              "75%     46.000000     88000.000000    1.000000\n",
              "max     60.000000    150000.000000    1.000000"
            ],
            "text/html": [
              "\n",
              "  <div id=\"df-86b244d0-5a1f-4b7e-96e4-59388b9929cd\">\n",
              "    <div class=\"colab-df-container\">\n",
              "      <div>\n",
              "<style scoped>\n",
              "    .dataframe tbody tr th:only-of-type {\n",
              "        vertical-align: middle;\n",
              "    }\n",
              "\n",
              "    .dataframe tbody tr th {\n",
              "        vertical-align: top;\n",
              "    }\n",
              "\n",
              "    .dataframe thead th {\n",
              "        text-align: right;\n",
              "    }\n",
              "</style>\n",
              "<table border=\"1\" class=\"dataframe\">\n",
              "  <thead>\n",
              "    <tr style=\"text-align: right;\">\n",
              "      <th></th>\n",
              "      <th>Age</th>\n",
              "      <th>EstimatedSalary</th>\n",
              "      <th>Purchased</th>\n",
              "    </tr>\n",
              "  </thead>\n",
              "  <tbody>\n",
              "    <tr>\n",
              "      <th>count</th>\n",
              "      <td>400.000000</td>\n",
              "      <td>400.000000</td>\n",
              "      <td>400.000000</td>\n",
              "    </tr>\n",
              "    <tr>\n",
              "      <th>mean</th>\n",
              "      <td>37.655000</td>\n",
              "      <td>69742.500000</td>\n",
              "      <td>0.357500</td>\n",
              "    </tr>\n",
              "    <tr>\n",
              "      <th>std</th>\n",
              "      <td>10.482877</td>\n",
              "      <td>34096.960282</td>\n",
              "      <td>0.479864</td>\n",
              "    </tr>\n",
              "    <tr>\n",
              "      <th>min</th>\n",
              "      <td>18.000000</td>\n",
              "      <td>15000.000000</td>\n",
              "      <td>0.000000</td>\n",
              "    </tr>\n",
              "    <tr>\n",
              "      <th>25%</th>\n",
              "      <td>29.750000</td>\n",
              "      <td>43000.000000</td>\n",
              "      <td>0.000000</td>\n",
              "    </tr>\n",
              "    <tr>\n",
              "      <th>50%</th>\n",
              "      <td>37.000000</td>\n",
              "      <td>70000.000000</td>\n",
              "      <td>0.000000</td>\n",
              "    </tr>\n",
              "    <tr>\n",
              "      <th>75%</th>\n",
              "      <td>46.000000</td>\n",
              "      <td>88000.000000</td>\n",
              "      <td>1.000000</td>\n",
              "    </tr>\n",
              "    <tr>\n",
              "      <th>max</th>\n",
              "      <td>60.000000</td>\n",
              "      <td>150000.000000</td>\n",
              "      <td>1.000000</td>\n",
              "    </tr>\n",
              "  </tbody>\n",
              "</table>\n",
              "</div>\n",
              "      <button class=\"colab-df-convert\" onclick=\"convertToInteractive('df-86b244d0-5a1f-4b7e-96e4-59388b9929cd')\"\n",
              "              title=\"Convert this dataframe to an interactive table.\"\n",
              "              style=\"display:none;\">\n",
              "        \n",
              "  <svg xmlns=\"http://www.w3.org/2000/svg\" height=\"24px\"viewBox=\"0 0 24 24\"\n",
              "       width=\"24px\">\n",
              "    <path d=\"M0 0h24v24H0V0z\" fill=\"none\"/>\n",
              "    <path d=\"M18.56 5.44l.94 2.06.94-2.06 2.06-.94-2.06-.94-.94-2.06-.94 2.06-2.06.94zm-11 1L8.5 8.5l.94-2.06 2.06-.94-2.06-.94L8.5 2.5l-.94 2.06-2.06.94zm10 10l.94 2.06.94-2.06 2.06-.94-2.06-.94-.94-2.06-.94 2.06-2.06.94z\"/><path d=\"M17.41 7.96l-1.37-1.37c-.4-.4-.92-.59-1.43-.59-.52 0-1.04.2-1.43.59L10.3 9.45l-7.72 7.72c-.78.78-.78 2.05 0 2.83L4 21.41c.39.39.9.59 1.41.59.51 0 1.02-.2 1.41-.59l7.78-7.78 2.81-2.81c.8-.78.8-2.07 0-2.86zM5.41 20L4 18.59l7.72-7.72 1.47 1.35L5.41 20z\"/>\n",
              "  </svg>\n",
              "      </button>\n",
              "      \n",
              "  <style>\n",
              "    .colab-df-container {\n",
              "      display:flex;\n",
              "      flex-wrap:wrap;\n",
              "      gap: 12px;\n",
              "    }\n",
              "\n",
              "    .colab-df-convert {\n",
              "      background-color: #E8F0FE;\n",
              "      border: none;\n",
              "      border-radius: 50%;\n",
              "      cursor: pointer;\n",
              "      display: none;\n",
              "      fill: #1967D2;\n",
              "      height: 32px;\n",
              "      padding: 0 0 0 0;\n",
              "      width: 32px;\n",
              "    }\n",
              "\n",
              "    .colab-df-convert:hover {\n",
              "      background-color: #E2EBFA;\n",
              "      box-shadow: 0px 1px 2px rgba(60, 64, 67, 0.3), 0px 1px 3px 1px rgba(60, 64, 67, 0.15);\n",
              "      fill: #174EA6;\n",
              "    }\n",
              "\n",
              "    [theme=dark] .colab-df-convert {\n",
              "      background-color: #3B4455;\n",
              "      fill: #D2E3FC;\n",
              "    }\n",
              "\n",
              "    [theme=dark] .colab-df-convert:hover {\n",
              "      background-color: #434B5C;\n",
              "      box-shadow: 0px 1px 3px 1px rgba(0, 0, 0, 0.15);\n",
              "      filter: drop-shadow(0px 1px 2px rgba(0, 0, 0, 0.3));\n",
              "      fill: #FFFFFF;\n",
              "    }\n",
              "  </style>\n",
              "\n",
              "      <script>\n",
              "        const buttonEl =\n",
              "          document.querySelector('#df-86b244d0-5a1f-4b7e-96e4-59388b9929cd button.colab-df-convert');\n",
              "        buttonEl.style.display =\n",
              "          google.colab.kernel.accessAllowed ? 'block' : 'none';\n",
              "\n",
              "        async function convertToInteractive(key) {\n",
              "          const element = document.querySelector('#df-86b244d0-5a1f-4b7e-96e4-59388b9929cd');\n",
              "          const dataTable =\n",
              "            await google.colab.kernel.invokeFunction('convertToInteractive',\n",
              "                                                     [key], {});\n",
              "          if (!dataTable) return;\n",
              "\n",
              "          const docLinkHtml = 'Like what you see? Visit the ' +\n",
              "            '<a target=\"_blank\" href=https://colab.research.google.com/notebooks/data_table.ipynb>data table notebook</a>'\n",
              "            + ' to learn more about interactive tables.';\n",
              "          element.innerHTML = '';\n",
              "          dataTable['output_type'] = 'display_data';\n",
              "          await google.colab.output.renderOutput(dataTable, element);\n",
              "          const docLink = document.createElement('div');\n",
              "          docLink.innerHTML = docLinkHtml;\n",
              "          element.appendChild(docLink);\n",
              "        }\n",
              "      </script>\n",
              "    </div>\n",
              "  </div>\n",
              "  "
            ]
          },
          "metadata": {},
          "execution_count": 11
        }
      ]
    },
    {
      "cell_type": "code",
      "source": [
        "#Kiểm tra giá trị ngoại lệ\n",
        "fig, ax = plt.subplots(1,2, figsize = (15, 5)) #1 dòng, 2 cột\n",
        "social_network_ads['Age'].plot.box(ax = ax[0], showmeans = True, meanline = True) \n",
        "#meanline: hiển thị đường trung bình\n",
        "social_network_ads['EstimatedSalary'].plot.box(ax = ax[1], showmeans = True, meanline = True)"
      ],
      "metadata": {
        "colab": {
          "base_uri": "https://localhost:8080/",
          "height": 338
        },
        "id": "57CTn1XyLK4M",
        "outputId": "1952690a-94ea-421a-ce59-a947fbc54f9c"
      },
      "execution_count": null,
      "outputs": [
        {
          "output_type": "execute_result",
          "data": {
            "text/plain": [
              "<AxesSubplot:>"
            ]
          },
          "metadata": {},
          "execution_count": 12
        },
        {
          "output_type": "display_data",
          "data": {
            "text/plain": [
              "<Figure size 1080x360 with 2 Axes>"
            ],
            "image/png": "[encoded data removed]"
          },
          "metadata": {
            "needs_background": "light"
          }
        }
      ]
    },
    {
      "cell_type": "code",
      "source": [
        "social_network_ads.hist(figsize = (15, 8))"
      ],
      "metadata": {
        "colab": {
          "base_uri": "https://localhost:8080/",
          "height": 572
        },
        "id": "C29IV8e5LM90",
        "outputId": "f0ea58da-4ab9-414d-ade4-d26f2e3c90cc"
      },
      "execution_count": null,
      "outputs": [
        {
          "output_type": "execute_result",
          "data": {
            "text/plain": [
              "array([[<AxesSubplot:title={'center':'Age'}>,\n",
              "        <AxesSubplot:title={'center':'EstimatedSalary'}>],\n",
              "       [<AxesSubplot:title={'center':'Purchased'}>, <AxesSubplot:>]],\n",
              "      dtype=object)"
            ]
          },
          "metadata": {},
          "execution_count": 13
        },
        {
          "output_type": "display_data",
          "data": {
            "text/plain": [
              "<Figure size 1080x576 with 4 Axes>"
            ],
            "image/png": "[encoded data removed]"
          },
          "metadata": {
            "needs_background": "light"
          }
        }
      ]
    },
    {
      "cell_type": "code",
      "source": [
        "#Đếm giá trị của cột Gender\n",
        "social_network_ads['Gender'].value_counts()"
      ],
      "metadata": {
        "colab": {
          "base_uri": "https://localhost:8080/"
        },
        "id": "LuyVRIjPLOpU",
        "outputId": "25e26935-cff0-45b1-e4b2-8bc9518a344d"
      },
      "execution_count": null,
      "outputs": [
        {
          "output_type": "execute_result",
          "data": {
            "text/plain": [
              "Female    204\n",
              "Male      196\n",
              "Name: Gender, dtype: int64"
            ]
          },
          "metadata": {},
          "execution_count": 14
        }
      ]
    },
    {
      "cell_type": "code",
      "source": [
        "social_network_ads['Gender'].value_counts().plot.pie(autopct = '%1.1f%%', shadow= True, figsize = (6, 8))"
      ],
      "metadata": {
        "colab": {
          "base_uri": "https://localhost:8080/",
          "height": 384
        },
        "id": "CW_O03ozLQic",
        "outputId": "9b27c6be-7832-4b0e-f7e9-0f41207c8d2b"
      },
      "execution_count": null,
      "outputs": [
        {
          "output_type": "execute_result",
          "data": {
            "text/plain": [
              "<AxesSubplot:ylabel='Gender'>"
            ]
          },
          "metadata": {},
          "execution_count": 15
        },
        {
          "output_type": "display_data",
          "data": {
            "text/plain": [
              "<Figure size 432x576 with 1 Axes>"
            ],
            "image/png": "[encoded data removed]"
          },
          "metadata": {}
        }
      ]
    },
    {
      "cell_type": "code",
      "source": [
        "fig, ax = plt.subplots(figsize = (7, 5))\n",
        "sns.countplot('Purchased', data = social_network_ads)\n",
        "ax.set_title('Distribution of Purchased')\n",
        "ax.set_xlabel('Value')"
      ],
      "metadata": {
        "colab": {
          "base_uri": "https://localhost:8080/",
          "height": 425
        },
        "id": "jcuh1kPbLSg0",
        "outputId": "a512082d-8008-4f8c-d3fc-31386006f265"
      },
      "execution_count": null,
      "outputs": [
        {
          "output_type": "stream",
          "name": "stderr",
          "text": [
            "/usr/local/lib/python3.9/dist-packages/seaborn/_decorators.py:36: FutureWarning: Pass the following variable as a keyword arg: x. From version 0.12, the only valid positional argument will be `data`, and passing other arguments without an explicit keyword will result in an error or misinterpretation.\n",
            "  warnings.warn(\n"
          ]
        },
        {
          "output_type": "execute_result",
          "data": {
            "text/plain": [
              "Text(0.5, 0, 'Value')"
            ]
          },
          "metadata": {},
          "execution_count": 16
        },
        {
          "output_type": "display_data",
          "data": {
            "text/plain": [
              "<Figure size 504x360 with 1 Axes>"
            ],
            "image/png": "[encoded data removed]"
          },
          "metadata": {
            "needs_background": "light"
          }
        }
      ]
    },
    {
      "cell_type": "code",
      "source": [
        "social_network_ads['Purchased'].value_counts().plot.pie(autopct = '%1.1f%%', shadow= True, figsize = (6, 8), explode = [0, 0.05])"
      ],
      "metadata": {
        "colab": {
          "base_uri": "https://localhost:8080/",
          "height": 384
        },
        "id": "piGMpArQLUTc",
        "outputId": "05c21f6b-dd3c-444d-c97d-379e1d0d3553"
      },
      "execution_count": null,
      "outputs": [
        {
          "output_type": "execute_result",
          "data": {
            "text/plain": [
              "<AxesSubplot:ylabel='Purchased'>"
            ]
          },
          "metadata": {},
          "execution_count": 17
        },
        {
          "output_type": "display_data",
          "data": {
            "text/plain": [
              "<Figure size 432x576 with 1 Axes>"
            ],
            "image/png": "[encoded data removed]"
          },
          "metadata": {}
        }
      ]
    },
    {
      "cell_type": "code",
      "source": [
        "#Phân tích các biến bằng cách sử dụng đồ thị phân tán\n",
        "plt.figure(figsize=(10,8))\n",
        "plt.title('Scatter Plot of Age, EstimatedSalary và Purchased', fontsize=20)\n",
        "plt.xlabel('Age', fontsize=15)\n",
        "plt.ylabel('EstimatedSalary', fontsize=15)\n",
        "sns.scatterplot(data=social_network_ads,x='Age',y= 'EstimatedSalary', hue='Purchased', s=100);"
      ],
      "metadata": {
        "colab": {
          "base_uri": "https://localhost:8080/",
          "height": 524
        },
        "id": "lOJ-ME1kLV60",
        "outputId": "15ef58f2-1972-4911-dfdf-5b9c98f50eec"
      },
      "execution_count": null,
      "outputs": [
        {
          "output_type": "display_data",
          "data": {
            "text/plain": [
              "<Figure size 720x576 with 1 Axes>"
            ],
            "image/png": "[encoded data removed]"
          },
          "metadata": {
            "needs_background": "light"
          }
        }
      ]
    },
    {
      "cell_type": "code",
      "source": [
        "plt.figure(figsize=(8,6))\n",
        "plt.title('Distribution of Gender, Age và Purchased', fontsize=20)\n",
        "plt.xlabel('Gender', fontsize=15)\n",
        "plt.ylabel('Age', fontsize=15)\n",
        "sns.barplot('Gender', 'Age',data = social_network_ads, hue = 'Purchased', ci=False)"
      ],
      "metadata": {
        "colab": {
          "base_uri": "https://localhost:8080/",
          "height": 490
        },
        "id": "9m9an72ZLXtt",
        "outputId": "b6488e75-bbde-4261-a77e-bd594f29479e"
      },
      "execution_count": null,
      "outputs": [
        {
          "output_type": "stream",
          "name": "stderr",
          "text": [
            "/usr/local/lib/python3.9/dist-packages/seaborn/_decorators.py:36: FutureWarning: Pass the following variables as keyword args: x, y. From version 0.12, the only valid positional argument will be `data`, and passing other arguments without an explicit keyword will result in an error or misinterpretation.\n",
            "  warnings.warn(\n"
          ]
        },
        {
          "output_type": "execute_result",
          "data": {
            "text/plain": [
              "<AxesSubplot:title={'center':'Distribution of Gender, Age và Purchased'}, xlabel='Gender', ylabel='Age'>"
            ]
          },
          "metadata": {},
          "execution_count": 19
        },
        {
          "output_type": "display_data",
          "data": {
            "text/plain": [
              "<Figure size 576x432 with 1 Axes>"
            ],
            "image/png": "[encoded data removed]"
          },
          "metadata": {
            "needs_background": "light"
          }
        }
      ]
    },
    {
      "cell_type": "code",
      "source": [
        "plt.figure(figsize=(8,6))\n",
        "plt.title('Distribution of Gender, EstimatedSalary và Purchased', fontsize=20)\n",
        "plt.xlabel('Gender', fontsize=15)\n",
        "plt.ylabel('EstimatedSalary', fontsize=15)\n",
        "sns.boxplot('Gender', 'EstimatedSalary',data = social_network_ads, hue = 'Purchased')"
      ],
      "metadata": {
        "colab": {
          "base_uri": "https://localhost:8080/",
          "height": 490
        },
        "id": "sMrvlcZuLZqE",
        "outputId": "3bc00545-2c7e-4bcf-d67d-a7d59d356fd5"
      },
      "execution_count": null,
      "outputs": [
        {
          "output_type": "stream",
          "name": "stderr",
          "text": [
            "/usr/local/lib/python3.9/dist-packages/seaborn/_decorators.py:36: FutureWarning: Pass the following variables as keyword args: x, y. From version 0.12, the only valid positional argument will be `data`, and passing other arguments without an explicit keyword will result in an error or misinterpretation.\n",
            "  warnings.warn(\n"
          ]
        },
        {
          "output_type": "execute_result",
          "data": {
            "text/plain": [
              "<AxesSubplot:title={'center':'Distribution of Gender, EstimatedSalary và Purchased'}, xlabel='Gender', ylabel='EstimatedSalary'>"
            ]
          },
          "metadata": {},
          "execution_count": 20
        },
        {
          "output_type": "display_data",
          "data": {
            "text/plain": [
              "<Figure size 576x432 with 1 Axes>"
            ],
            "image/png": "[encoded data removed]"
          },
          "metadata": {
            "needs_background": "light"
          }
        }
      ]
    },
    {
      "cell_type": "code",
      "source": [
        "#ma trận tương quan giữa các biến\n",
        "plt.figure(figsize=(6, 6))\n",
        "sns.heatmap(social_network_ads.corr(), annot=True)\n",
        "plt.title('Correlation matrix', fontsize=20);"
      ],
      "metadata": {
        "colab": {
          "base_uri": "https://localhost:8080/",
          "height": 395
        },
        "id": "eu5P17TKLdoF",
        "outputId": "f7e008ea-54fd-47cf-ca4e-8b4c8c6b880a"
      },
      "execution_count": null,
      "outputs": [
        {
          "output_type": "display_data",
          "data": {
            "text/plain": [
              "<Figure size 432x432 with 2 Axes>"
            ],
            "image/png": "[encoded data removed]"
          },
          "metadata": {
            "needs_background": "light"
          }
        }
      ]
    },
    {
      "cell_type": "code",
      "source": [
        "X = social_network_ads.drop('Purchased', axis = 1)\n",
        "y = social_network_ads['Purchased']"
      ],
      "metadata": {
        "id": "Z11YeJ5ALfb8"
      },
      "execution_count": null,
      "outputs": []
    },
    {
      "cell_type": "code",
      "source": [
        "#Drop cột Gender\n",
        "social_network_ads.drop('Gender', axis = 1, inplace=True)"
      ],
      "metadata": {
        "id": "2fVSNJ_ULhA9"
      },
      "execution_count": null,
      "outputs": []
    },
    {
      "cell_type": "markdown",
      "source": [
        "#2.4.2 Tiền xử lý dữ liệu"
      ],
      "metadata": {
        "id": "FilwdybcLlhU"
      }
    },
    {
      "cell_type": "markdown",
      "source": [
        "##Chia biến\n",
        "Slicing it into independent and dependent variables"
      ],
      "metadata": {
        "id": "e66eqvRdLoAc"
      }
    },
    {
      "cell_type": "code",
      "source": [
        "social_network_ads"
      ],
      "metadata": {
        "colab": {
          "base_uri": "https://localhost:8080/",
          "height": 423
        },
        "id": "2KulUOjBLl7f",
        "outputId": "24540f49-07d0-4df2-991d-d9455895b6b5"
      },
      "execution_count": null,
      "outputs": [
        {
          "output_type": "execute_result",
          "data": {
            "text/plain": [
              "     Age  EstimatedSalary  Purchased\n",
              "0     19            19000          0\n",
              "1     35            20000          0\n",
              "2     26            43000          0\n",
              "3     27            57000          0\n",
              "4     19            76000          0\n",
              "..   ...              ...        ...\n",
              "395   46            41000          1\n",
              "396   51            23000          1\n",
              "397   50            20000          1\n",
              "398   36            33000          0\n",
              "399   49            36000          1\n",
              "\n",
              "[400 rows x 3 columns]"
            ],
            "text/html": [
              "\n",
              "  <div id=\"df-5f8f7943-b3b4-42ae-b781-7695ad087cce\">\n",
              "    <div class=\"colab-df-container\">\n",
              "      <div>\n",
              "<style scoped>\n",
              "    .dataframe tbody tr th:only-of-type {\n",
              "        vertical-align: middle;\n",
              "    }\n",
              "\n",
              "    .dataframe tbody tr th {\n",
              "        vertical-align: top;\n",
              "    }\n",
              "\n",
              "    .dataframe thead th {\n",
              "        text-align: right;\n",
              "    }\n",
              "</style>\n",
              "<table border=\"1\" class=\"dataframe\">\n",
              "  <thead>\n",
              "    <tr style=\"text-align: right;\">\n",
              "      <th></th>\n",
              "      <th>Age</th>\n",
              "      <th>EstimatedSalary</th>\n",
              "      <th>Purchased</th>\n",
              "    </tr>\n",
              "  </thead>\n",
              "  <tbody>\n",
              "    <tr>\n",
              "      <th>0</th>\n",
              "      <td>19</td>\n",
              "      <td>19000</td>\n",
              "      <td>0</td>\n",
              "    </tr>\n",
              "    <tr>\n",
              "      <th>1</th>\n",
              "      <td>35</td>\n",
              "      <td>20000</td>\n",
              "      <td>0</td>\n",
              "    </tr>\n",
              "    <tr>\n",
              "      <th>2</th>\n",
              "      <td>26</td>\n",
              "      <td>43000</td>\n",
              "      <td>0</td>\n",
              "    </tr>\n",
              "    <tr>\n",
              "      <th>3</th>\n",
              "      <td>27</td>\n",
              "      <td>57000</td>\n",
              "      <td>0</td>\n",
              "    </tr>\n",
              "    <tr>\n",
              "      <th>4</th>\n",
              "      <td>19</td>\n",
              "      <td>76000</td>\n",
              "      <td>0</td>\n",
              "    </tr>\n",
              "    <tr>\n",
              "      <th>...</th>\n",
              "      <td>...</td>\n",
              "      <td>...</td>\n",
              "      <td>...</td>\n",
              "    </tr>\n",
              "    <tr>\n",
              "      <th>395</th>\n",
              "      <td>46</td>\n",
              "      <td>41000</td>\n",
              "      <td>1</td>\n",
              "    </tr>\n",
              "    <tr>\n",
              "      <th>396</th>\n",
              "      <td>51</td>\n",
              "      <td>23000</td>\n",
              "      <td>1</td>\n",
              "    </tr>\n",
              "    <tr>\n",
              "      <th>397</th>\n",
              "      <td>50</td>\n",
              "      <td>20000</td>\n",
              "      <td>1</td>\n",
              "    </tr>\n",
              "    <tr>\n",
              "      <th>398</th>\n",
              "      <td>36</td>\n",
              "      <td>33000</td>\n",
              "      <td>0</td>\n",
              "    </tr>\n",
              "    <tr>\n",
              "      <th>399</th>\n",
              "      <td>49</td>\n",
              "      <td>36000</td>\n",
              "      <td>1</td>\n",
              "    </tr>\n",
              "  </tbody>\n",
              "</table>\n",
              "<p>400 rows × 3 columns</p>\n",
              "</div>\n",
              "      <button class=\"colab-df-convert\" onclick=\"convertToInteractive('df-5f8f7943-b3b4-42ae-b781-7695ad087cce')\"\n",
              "              title=\"Convert this dataframe to an interactive table.\"\n",
              "              style=\"display:none;\">\n",
              "        \n",
              "  <svg xmlns=\"http://www.w3.org/2000/svg\" height=\"24px\"viewBox=\"0 0 24 24\"\n",
              "       width=\"24px\">\n",
              "    <path d=\"M0 0h24v24H0V0z\" fill=\"none\"/>\n",
              "    <path d=\"M18.56 5.44l.94 2.06.94-2.06 2.06-.94-2.06-.94-.94-2.06-.94 2.06-2.06.94zm-11 1L8.5 8.5l.94-2.06 2.06-.94-2.06-.94L8.5 2.5l-.94 2.06-2.06.94zm10 10l.94 2.06.94-2.06 2.06-.94-2.06-.94-.94-2.06-.94 2.06-2.06.94z\"/><path d=\"M17.41 7.96l-1.37-1.37c-.4-.4-.92-.59-1.43-.59-.52 0-1.04.2-1.43.59L10.3 9.45l-7.72 7.72c-.78.78-.78 2.05 0 2.83L4 21.41c.39.39.9.59 1.41.59.51 0 1.02-.2 1.41-.59l7.78-7.78 2.81-2.81c.8-.78.8-2.07 0-2.86zM5.41 20L4 18.59l7.72-7.72 1.47 1.35L5.41 20z\"/>\n",
              "  </svg>\n",
              "      </button>\n",
              "      \n",
              "  <style>\n",
              "    .colab-df-container {\n",
              "      display:flex;\n",
              "      flex-wrap:wrap;\n",
              "      gap: 12px;\n",
              "    }\n",
              "\n",
              "    .colab-df-convert {\n",
              "      background-color: #E8F0FE;\n",
              "      border: none;\n",
              "      border-radius: 50%;\n",
              "      cursor: pointer;\n",
              "      display: none;\n",
              "      fill: #1967D2;\n",
              "      height: 32px;\n",
              "      padding: 0 0 0 0;\n",
              "      width: 32px;\n",
              "    }\n",
              "\n",
              "    .colab-df-convert:hover {\n",
              "      background-color: #E2EBFA;\n",
              "      box-shadow: 0px 1px 2px rgba(60, 64, 67, 0.3), 0px 1px 3px 1px rgba(60, 64, 67, 0.15);\n",
              "      fill: #174EA6;\n",
              "    }\n",
              "\n",
              "    [theme=dark] .colab-df-convert {\n",
              "      background-color: #3B4455;\n",
              "      fill: #D2E3FC;\n",
              "    }\n",
              "\n",
              "    [theme=dark] .colab-df-convert:hover {\n",
              "      background-color: #434B5C;\n",
              "      box-shadow: 0px 1px 3px 1px rgba(0, 0, 0, 0.15);\n",
              "      filter: drop-shadow(0px 1px 2px rgba(0, 0, 0, 0.3));\n",
              "      fill: #FFFFFF;\n",
              "    }\n",
              "  </style>\n",
              "\n",
              "      <script>\n",
              "        const buttonEl =\n",
              "          document.querySelector('#df-5f8f7943-b3b4-42ae-b781-7695ad087cce button.colab-df-convert');\n",
              "        buttonEl.style.display =\n",
              "          google.colab.kernel.accessAllowed ? 'block' : 'none';\n",
              "\n",
              "        async function convertToInteractive(key) {\n",
              "          const element = document.querySelector('#df-5f8f7943-b3b4-42ae-b781-7695ad087cce');\n",
              "          const dataTable =\n",
              "            await google.colab.kernel.invokeFunction('convertToInteractive',\n",
              "                                                     [key], {});\n",
              "          if (!dataTable) return;\n",
              "\n",
              "          const docLinkHtml = 'Like what you see? Visit the ' +\n",
              "            '<a target=\"_blank\" href=https://colab.research.google.com/notebooks/data_table.ipynb>data table notebook</a>'\n",
              "            + ' to learn more about interactive tables.';\n",
              "          element.innerHTML = '';\n",
              "          dataTable['output_type'] = 'display_data';\n",
              "          await google.colab.output.renderOutput(dataTable, element);\n",
              "          const docLink = document.createElement('div');\n",
              "          docLink.innerHTML = docLinkHtml;\n",
              "          element.appendChild(docLink);\n",
              "        }\n",
              "      </script>\n",
              "    </div>\n",
              "  </div>\n",
              "  "
            ]
          },
          "metadata": {},
          "execution_count": 24
        }
      ]
    },
    {
      "cell_type": "code",
      "source": [
        "#independent variables\n",
        "X = social_network_ads.iloc[:, :-1].values\n",
        "y = social_network_ads.iloc[:, -1].values"
      ],
      "metadata": {
        "id": "frJMa7d4LqD1"
      },
      "execution_count": null,
      "outputs": []
    },
    {
      "cell_type": "markdown",
      "source": [
        "##Chia tập train - test\n",
        "Performing a train test split on the dataset"
      ],
      "metadata": {
        "id": "ineT9rkuLweX"
      }
    },
    {
      "cell_type": "code",
      "source": [
        "from sklearn.model_selection import train_test_split\n",
        "X_train, X_test, y_train, y_test = train_test_split(X, y, test_size = 0.20, random_state = 0)"
      ],
      "metadata": {
        "id": "TCQae8wQLxO2"
      },
      "execution_count": null,
      "outputs": []
    },
    {
      "cell_type": "markdown",
      "source": [
        "## Standard Scaler\n",
        "feature scaling to the training and test set of independent variables for reducing the size to smaller values"
      ],
      "metadata": {
        "id": "YvTarMT6L0vr"
      }
    },
    {
      "cell_type": "code",
      "source": [
        "from sklearn.preprocessing import StandardScaler\n",
        "sc = StandardScaler()\n",
        "X_train = sc.fit_transform(X_train)\n",
        "X_test = sc.transform(X_test)"
      ],
      "metadata": {
        "id": "5xFPdqzoL1WH"
      },
      "execution_count": null,
      "outputs": []
    },
    {
      "cell_type": "code",
      "source": [
        "#After StandardScaler\n",
        "X_train"
      ],
      "metadata": {
        "id": "Y_FMBjZnL4CG",
        "colab": {
          "base_uri": "https://localhost:8080/"
        },
        "outputId": "078685c1-b7e3-43a8-bc17-d263b97faf5f"
      },
      "execution_count": null,
      "outputs": [
        {
          "output_type": "execute_result",
          "data": {
            "text/plain": [
              "array([[ 1.92295008e+00,  2.14601566e+00],\n",
              "       [ 2.02016082e+00,  3.78719297e-01],\n",
              "       [-1.38221530e+00, -4.32498705e-01],\n",
              "       [-1.18779381e+00, -1.01194013e+00],\n",
              "       [ 1.92295008e+00, -9.25023920e-01],\n",
              "       [ 3.67578135e-01,  2.91803083e-01],\n",
              "       [ 1.73156642e-01,  1.46942725e-01],\n",
              "       [ 2.02016082e+00,  1.74040666e+00],\n",
              "       [ 7.56421121e-01, -8.38107706e-01],\n",
              "       [ 2.70367388e-01, -2.87638347e-01],\n",
              "       [ 3.67578135e-01, -1.71750061e-01],\n",
              "       [-1.18475597e-01,  2.20395980e+00],\n",
              "       [-1.47942605e+00, -6.35303205e-01],\n",
              "       [-1.28500455e+00, -1.06988428e+00],\n",
              "       [-1.38221530e+00,  4.07691369e-01],\n",
              "       [-1.09058306e+00,  7.55356227e-01],\n",
              "       [-1.47942605e+00, -2.00722133e-01],\n",
              "       [ 9.50842613e-01, -1.06988428e+00],\n",
              "       [ 9.50842613e-01,  5.81523798e-01],\n",
              "       [ 3.67578135e-01,  9.87132798e-01],\n",
              "       [ 5.61999628e-01, -8.96051849e-01],\n",
              "       [-6.04529329e-01,  1.45068594e+00],\n",
              "       [-2.12648508e-02, -5.77359062e-01],\n",
              "       [-6.04529329e-01,  1.88526701e+00],\n",
              "       [ 1.33968560e+00, -1.41754914e+00],\n",
              "       [ 1.43689635e+00,  9.87132798e-01],\n",
              "       [ 7.59458956e-02, -8.09135634e-01],\n",
              "       [-2.12648508e-02, -2.58666276e-01],\n",
              "       [-2.15686344e-01, -5.77359062e-01],\n",
              "       [-2.15686344e-01, -2.00722133e-01],\n",
              "       [-3.12897090e-01, -1.30166085e+00],\n",
              "       [-3.12897090e-01, -5.77359062e-01],\n",
              "       [ 3.67578135e-01,  8.89985821e-02],\n",
              "       [ 8.53631867e-01, -6.06331134e-01],\n",
              "       [ 2.02016082e+00, -1.18577256e+00],\n",
              "       [ 1.04805336e+00, -1.42777990e-01],\n",
              "       [ 6.59210374e-01,  1.76937873e+00],\n",
              "       [-7.01740076e-01,  5.52551726e-01],\n",
              "       [ 7.56421121e-01,  3.49747226e-01],\n",
              "       [ 8.53631867e-01, -5.48386991e-01],\n",
              "       [-1.18779381e+00, -1.59138156e+00],\n",
              "       [ 2.11737157e+00,  9.29188655e-01],\n",
              "       [-2.12648508e-02,  1.21890937e+00],\n",
              "       [ 1.73156642e-01,  1.07404901e+00],\n",
              "       [ 3.67578135e-01, -4.90442848e-01],\n",
              "       [-3.12897090e-01, -3.16610419e-01],\n",
              "       [ 9.50842613e-01, -8.38107706e-01],\n",
              "       [ 9.50842613e-01,  1.85629494e+00],\n",
              "       [-2.12648508e-02,  1.24788144e+00],\n",
              "       [-8.96161568e-01,  2.26190394e+00],\n",
              "       [-1.18779381e+00, -1.59138156e+00],\n",
              "       [ 2.11737157e+00, -8.09135634e-01],\n",
              "       [-1.38221530e+00, -1.47549328e+00],\n",
              "       [ 3.67578135e-01,  2.29087602e+00],\n",
              "       [ 7.56421121e-01,  7.55356227e-01],\n",
              "       [-9.93372315e-01, -3.16610419e-01],\n",
              "       [ 7.59458956e-02,  7.55356227e-01],\n",
              "       [-9.93372315e-01,  5.52551726e-01],\n",
              "       [ 2.70367388e-01,  6.00265106e-02],\n",
              "       [ 6.59210374e-01, -1.27268878e+00],\n",
              "       [-5.07318583e-01, -2.68897039e-02],\n",
              "       [-1.77105829e+00,  3.49747226e-01],\n",
              "       [-7.01740076e-01,  1.17970654e-01],\n",
              "       [ 3.67578135e-01,  2.91803083e-01],\n",
              "       [-3.12897090e-01,  6.00265106e-02],\n",
              "       [-5.07318583e-01,  2.29087602e+00],\n",
              "       [ 1.73156642e-01,  3.10544391e-02],\n",
              "       [ 1.24247485e+00,  2.20395980e+00],\n",
              "       [ 7.56421121e-01,  2.62831011e-01],\n",
              "       [-3.12897090e-01,  1.46942725e-01],\n",
              "       [-2.12648508e-02, -5.48386991e-01],\n",
              "       [-2.15686344e-01,  1.46942725e-01],\n",
              "       [-1.18475597e-01,  2.33858940e-01],\n",
              "       [-2.12648508e-02, -2.58666276e-01],\n",
              "       [ 2.11737157e+00,  1.10302108e+00],\n",
              "       [-1.77105829e+00,  3.49747226e-01],\n",
              "       [ 1.82573933e+00,  1.17970654e-01],\n",
              "       [ 3.67578135e-01, -1.42777990e-01],\n",
              "       [-1.18779381e+00,  2.91803083e-01],\n",
              "       [ 7.56421121e-01,  1.36376973e+00],\n",
              "       [-3.12897090e-01, -2.58666276e-01],\n",
              "       [-1.67384754e+00, -5.58617754e-02],\n",
              "       [-9.93372315e-01, -7.51191491e-01],\n",
              "       [ 2.70367388e-01,  4.94607583e-01],\n",
              "       [-1.18475597e-01, -1.06988428e+00],\n",
              "       [-1.09058306e+00,  5.81523798e-01],\n",
              "       [ 7.59458956e-02, -8.09135634e-01],\n",
              "       [-9.93372315e-01,  1.53760216e+00],\n",
              "       [-7.01740076e-01,  1.39274180e+00],\n",
              "       [-1.28500455e+00,  4.94607583e-01],\n",
              "       [-3.12897090e-01,  3.10544391e-02],\n",
              "       [-1.18475597e-01,  2.08236764e-03],\n",
              "       [-3.12897090e-01, -8.96051849e-01],\n",
              "       [ 8.53631867e-01, -1.35960499e+00],\n",
              "       [-3.12897090e-01,  2.23293187e+00],\n",
              "       [ 9.50842613e-01,  1.97218323e+00],\n",
              "       [-1.18779381e+00,  4.65635512e-01],\n",
              "       [-1.28500455e+00,  2.62831011e-01],\n",
              "       [ 1.33968560e+00,  1.97218323e+00],\n",
              "       [ 1.24247485e+00, -1.35960499e+00],\n",
              "       [-3.12897090e-01, -2.87638347e-01],\n",
              "       [-5.07318583e-01,  1.24788144e+00],\n",
              "       [-7.98950822e-01,  1.07404901e+00],\n",
              "       [ 9.50842613e-01, -1.06988428e+00],\n",
              "       [ 2.70367388e-01,  2.91803083e-01],\n",
              "       [ 9.50842613e-01,  7.55356227e-01],\n",
              "       [-7.01740076e-01, -1.50446535e+00],\n",
              "       [-7.01740076e-01,  3.10544391e-02],\n",
              "       [ 4.64788881e-01,  1.71143459e+00],\n",
              "       [ 2.02016082e+00,  1.75914797e-01],\n",
              "       [-1.96547978e+00, -7.51191491e-01],\n",
              "       [-2.15686344e-01,  1.39274180e+00],\n",
              "       [ 3.67578135e-01,  5.81523798e-01],\n",
              "       [ 8.53631867e-01, -1.15680049e+00],\n",
              "       [-1.18779381e+00, -7.80163563e-01],\n",
              "       [ 1.73156642e-01,  2.33858940e-01],\n",
              "       [ 7.56421121e-01, -3.16610419e-01],\n",
              "       [ 2.02016082e+00, -8.09135634e-01],\n",
              "       [ 7.56421121e-01,  1.17970654e-01],\n",
              "       [-3.12897090e-01,  6.10495869e-01],\n",
              "       [-9.93372315e-01, -3.16610419e-01],\n",
              "       [ 1.73156642e-01, -3.74554562e-01],\n",
              "       [ 2.02016082e+00,  2.11704359e+00],\n",
              "       [ 1.82573933e+00, -1.27268878e+00],\n",
              "       [ 1.33968560e+00, -9.25023920e-01],\n",
              "       [ 8.53631867e-01,  1.24788144e+00],\n",
              "       [ 1.43689635e+00,  2.11704359e+00],\n",
              "       [-3.12897090e-01, -1.24371671e+00],\n",
              "       [ 1.92295008e+00,  9.00216584e-01],\n",
              "       [ 6.59210374e-01, -7.22219420e-01],\n",
              "       [-1.47942605e+00,  3.49747226e-01],\n",
              "       [ 7.56421121e-01, -1.35960499e+00],\n",
              "       [ 3.67578135e-01, -1.42777990e-01],\n",
              "       [-9.93372315e-01,  4.07691369e-01],\n",
              "       [-2.12648508e-02, -3.16610419e-01],\n",
              "       [-1.18779381e+00,  4.07691369e-01],\n",
              "       [-8.96161568e-01, -1.21474464e+00],\n",
              "       [-1.18475597e-01,  3.10544391e-02],\n",
              "       [-1.57663679e+00, -4.32498705e-01],\n",
              "       [ 9.50842613e-01, -1.01194013e+00],\n",
              "       [ 1.04805336e+00, -1.21474464e+00],\n",
              "       [-2.12648508e-02, -1.42777990e-01],\n",
              "       [-1.09058306e+00, -1.53343742e+00],\n",
              "       [ 7.56421121e-01, -1.21474464e+00],\n",
              "       [ 9.50842613e-01,  2.05909944e+00],\n",
              "       [-1.18779381e+00, -1.53343742e+00],\n",
              "       [-3.12897090e-01,  7.84328298e-01],\n",
              "       [ 7.59458956e-02, -3.16610419e-01],\n",
              "       [-1.38221530e+00, -1.24371671e+00],\n",
              "       [-6.04529329e-01, -1.50446535e+00],\n",
              "       [ 7.56421121e-01,  5.23579655e-01],\n",
              "       [-3.12897090e-01, -3.45582490e-01],\n",
              "       [ 1.72852858e+00, -2.87638347e-01],\n",
              "       [ 8.53631867e-01, -1.04091221e+00],\n",
              "       [ 1.73156642e-01,  6.00265106e-02],\n",
              "       [-6.04529329e-01,  8.71244512e-01],\n",
              "       [-1.86826903e+00, -1.41754914e+00],\n",
              "       [-1.28500455e+00,  5.81523798e-01],\n",
              "       [-3.12897090e-01,  5.23579655e-01],\n",
              "       [-9.93372315e-01, -1.09885635e+00],\n",
              "       [ 1.14526411e+00, -1.44652121e+00],\n",
              "       [ 1.73156642e-01, -3.16610419e-01],\n",
              "       [ 1.14526411e+00, -7.51191491e-01],\n",
              "       [-3.12897090e-01,  6.00265106e-02],\n",
              "       [ 1.73156642e-01,  2.08807152e+00],\n",
              "       [ 7.56421121e-01, -1.09885635e+00],\n",
              "       [ 7.59458956e-02,  3.10544391e-02],\n",
              "       [-1.77105829e+00,  1.17970654e-01],\n",
              "       [-8.96161568e-01,  1.46942725e-01],\n",
              "       [-7.01740076e-01,  1.75914797e-01],\n",
              "       [ 8.53631867e-01, -1.30166085e+00],\n",
              "       [ 1.73156642e-01, -2.58666276e-01],\n",
              "       [-4.10107836e-01,  1.21890937e+00],\n",
              "       [-2.12648508e-02,  2.91803083e-01],\n",
              "       [ 3.67578135e-01,  1.46942725e-01],\n",
              "       [ 8.53631867e-01, -6.64275277e-01],\n",
              "       [ 7.59458956e-02,  1.46942725e-01],\n",
              "       [-1.86826903e+00, -1.30166085e+00],\n",
              "       [-1.18475597e-01,  2.91803083e-01],\n",
              "       [-2.15686344e-01, -2.87638347e-01],\n",
              "       [ 2.70367388e-01, -5.19414919e-01],\n",
              "       [-2.15686344e-01,  1.59554630e+00],\n",
              "       [ 9.50842613e-01, -1.18577256e+00],\n",
              "       [-2.15686344e-01,  1.62451837e+00],\n",
              "       [ 1.24247485e+00,  1.85629494e+00],\n",
              "       [-1.09058306e+00, -3.74554562e-01],\n",
              "       [-2.12648508e-02,  3.10544391e-02],\n",
              "       [ 7.59458956e-02, -2.58666276e-01],\n",
              "       [-1.57663679e+00, -1.24371671e+00],\n",
              "       [-5.07318583e-01, -2.87638347e-01],\n",
              "       [ 9.50842613e-01,  1.17970654e-01],\n",
              "       [ 1.92295008e+00, -1.35960499e+00],\n",
              "       [ 1.43689635e+00,  6.00265106e-02],\n",
              "       [-6.04529329e-01,  1.36376973e+00],\n",
              "       [ 1.53410709e+00,  2.08236764e-03],\n",
              "       [-7.98950822e-01,  2.91803083e-01],\n",
              "       [ 1.92295008e+00,  7.26384155e-01],\n",
              "       [-1.18779381e+00, -5.19414919e-01],\n",
              "       [ 6.59210374e-01,  2.62831011e-01],\n",
              "       [-1.38221530e+00, -4.32498705e-01],\n",
              "       [ 1.73156642e-01,  1.46942725e-01],\n",
              "       [-5.07318583e-01, -1.21474464e+00],\n",
              "       [ 5.61999628e-01,  2.00115530e+00],\n",
              "       [-1.57663679e+00, -1.50446535e+00],\n",
              "       [-5.07318583e-01, -5.48386991e-01],\n",
              "       [ 4.64788881e-01,  1.82732287e+00],\n",
              "       [-1.38221530e+00, -1.09885635e+00],\n",
              "       [ 7.56421121e-01, -1.38857706e+00],\n",
              "       [-3.12897090e-01, -4.32498705e-01],\n",
              "       [ 1.53410709e+00,  9.87132798e-01],\n",
              "       [ 9.50842613e-01,  1.42171387e+00],\n",
              "       [-3.12897090e-01, -4.90442848e-01],\n",
              "       [-1.18475597e-01,  2.14601566e+00],\n",
              "       [-1.47942605e+00, -1.13805918e-01],\n",
              "       [-1.18475597e-01,  1.94321116e+00],\n",
              "       [-7.01740076e-01, -3.45582490e-01],\n",
              "       [-5.07318583e-01, -8.38107706e-01],\n",
              "       [ 6.59210374e-01, -1.38857706e+00],\n",
              "       [-7.98950822e-01, -1.59138156e+00],\n",
              "       [-1.86826903e+00, -1.47549328e+00],\n",
              "       [ 1.04805336e+00,  1.17970654e-01],\n",
              "       [ 7.59458956e-02,  1.50863009e+00],\n",
              "       [-3.12897090e-01,  8.89985821e-02],\n",
              "       [ 7.59458956e-02,  3.10544391e-02],\n",
              "       [-1.38221530e+00, -1.35960499e+00],\n",
              "       [ 2.70367388e-01,  6.00265106e-02],\n",
              "       [-8.96161568e-01,  3.78719297e-01],\n",
              "       [ 1.53410709e+00, -1.27268878e+00],\n",
              "       [-3.12897090e-01, -7.51191491e-01],\n",
              "       [-1.18475597e-01,  1.46942725e-01],\n",
              "       [-8.96161568e-01, -6.64275277e-01],\n",
              "       [-7.01740076e-01, -5.58617754e-02],\n",
              "       [ 3.67578135e-01, -4.61470776e-01],\n",
              "       [-7.98950822e-01,  1.88526701e+00],\n",
              "       [ 1.33968560e+00,  1.27685351e+00],\n",
              "       [ 1.14526411e+00, -9.82968063e-01],\n",
              "       [ 1.72852858e+00,  1.82732287e+00],\n",
              "       [-8.96161568e-01, -2.58666276e-01],\n",
              "       [-7.98950822e-01,  5.52551726e-01],\n",
              "       [-1.18779381e+00, -1.56240949e+00],\n",
              "       [-5.07318583e-01, -1.12782842e+00],\n",
              "       [ 2.70367388e-01,  6.00265106e-02],\n",
              "       [-2.15686344e-01, -1.06988428e+00],\n",
              "       [ 1.63131784e+00,  1.59554630e+00],\n",
              "       [ 9.50842613e-01,  1.76937873e+00],\n",
              "       [ 2.70367388e-01,  3.10544391e-02],\n",
              "       [-7.98950822e-01, -2.29694204e-01],\n",
              "       [-1.18475597e-01,  6.00265106e-02],\n",
              "       [ 2.70367388e-01, -2.00722133e-01],\n",
              "       [ 1.92295008e+00, -6.64275277e-01],\n",
              "       [-7.98950822e-01,  1.33479766e+00],\n",
              "       [-1.77105829e+00, -6.06331134e-01],\n",
              "       [-1.18475597e-01,  1.17970654e-01],\n",
              "       [ 2.70367388e-01, -3.16610419e-01],\n",
              "       [ 1.04805336e+00,  5.52551726e-01],\n",
              "       [-9.93372315e-01,  2.62831011e-01],\n",
              "       [ 1.43689635e+00,  3.49747226e-01],\n",
              "       [ 1.73156642e-01, -3.74554562e-01],\n",
              "       [ 2.11737157e+00, -1.04091221e+00],\n",
              "       [-3.12897090e-01,  1.10302108e+00],\n",
              "       [-1.67384754e+00,  6.00265106e-02],\n",
              "       [-2.12648508e-02,  3.10544391e-02],\n",
              "       [ 7.59458956e-02,  1.04507694e+00],\n",
              "       [-1.18475597e-01, -3.74554562e-01],\n",
              "       [-1.18779381e+00,  6.00265106e-02],\n",
              "       [-3.12897090e-01, -1.35960499e+00],\n",
              "       [ 1.53410709e+00,  1.10302108e+00],\n",
              "       [-7.98950822e-01, -1.53343742e+00],\n",
              "       [ 7.59458956e-02,  1.85629494e+00],\n",
              "       [-8.96161568e-01, -7.80163563e-01],\n",
              "       [-5.07318583e-01, -7.80163563e-01],\n",
              "       [-3.12897090e-01, -9.25023920e-01],\n",
              "       [ 2.70367388e-01, -7.22219420e-01],\n",
              "       [ 2.70367388e-01,  6.00265106e-02],\n",
              "       [ 7.59458956e-02,  1.85629494e+00],\n",
              "       [-1.09058306e+00,  1.94321116e+00],\n",
              "       [-1.67384754e+00, -1.56240949e+00],\n",
              "       [-1.18779381e+00, -1.09885635e+00],\n",
              "       [-7.01740076e-01, -1.13805918e-01],\n",
              "       [ 7.59458956e-02,  8.89985821e-02],\n",
              "       [ 2.70367388e-01,  2.62831011e-01],\n",
              "       [ 8.53631867e-01, -5.77359062e-01],\n",
              "       [ 2.70367388e-01, -1.15680049e+00],\n",
              "       [-1.18475597e-01,  6.68440012e-01],\n",
              "       [ 2.11737157e+00, -6.93247348e-01],\n",
              "       [-1.28500455e+00, -1.38857706e+00],\n",
              "       [-9.93372315e-01, -9.53995992e-01],\n",
              "       [-2.12648508e-02, -4.32498705e-01],\n",
              "       [-2.15686344e-01, -4.61470776e-01],\n",
              "       [-1.77105829e+00, -9.82968063e-01],\n",
              "       [ 1.72852858e+00,  9.87132798e-01],\n",
              "       [ 1.73156642e-01, -3.74554562e-01],\n",
              "       [ 3.67578135e-01,  1.10302108e+00],\n",
              "       [-1.77105829e+00, -1.35960499e+00],\n",
              "       [ 1.73156642e-01, -1.42777990e-01],\n",
              "       [ 8.53631867e-01, -1.44652121e+00],\n",
              "       [-1.96547978e+00,  4.65635512e-01],\n",
              "       [-3.12897090e-01,  2.62831011e-01],\n",
              "       [ 1.82573933e+00, -1.06988428e+00],\n",
              "       [-4.10107836e-01,  6.00265106e-02],\n",
              "       [ 1.04805336e+00, -8.96051849e-01],\n",
              "       [-1.09058306e+00, -1.12782842e+00],\n",
              "       [-1.86826903e+00,  2.08236764e-03],\n",
              "       [ 7.59458956e-02,  2.62831011e-01],\n",
              "       [-1.18779381e+00,  3.20775154e-01],\n",
              "       [-1.28500455e+00,  2.91803083e-01],\n",
              "       [-9.93372315e-01,  4.36663440e-01],\n",
              "       [ 1.63131784e+00, -8.96051849e-01],\n",
              "       [ 1.14526411e+00,  5.23579655e-01],\n",
              "       [ 1.04805336e+00,  5.23579655e-01],\n",
              "       [ 1.33968560e+00,  2.31984809e+00],\n",
              "       [-3.12897090e-01, -1.42777990e-01],\n",
              "       [ 3.67578135e-01, -4.61470776e-01],\n",
              "       [-4.10107836e-01, -7.80163563e-01],\n",
              "       [-1.18475597e-01, -5.19414919e-01],\n",
              "       [ 9.50842613e-01, -1.15680049e+00],\n",
              "       [-8.96161568e-01, -7.80163563e-01],\n",
              "       [-2.15686344e-01, -5.19414919e-01],\n",
              "       [-1.09058306e+00, -4.61470776e-01],\n",
              "       [-1.18779381e+00,  1.39274180e+00]])"
            ]
          },
          "metadata": {},
          "execution_count": 28
        }
      ]
    },
    {
      "cell_type": "markdown",
      "source": [
        "##Chạy model sau EDA"
      ],
      "metadata": {
        "id": "-At7iEcyMBQk"
      }
    },
    {
      "cell_type": "code",
      "source": [
        "from sklearn.neighbors import KNeighborsClassifier\n",
        "classifier = KNeighborsClassifier(n_neighbors = 5, metric = 'minkowski', p = 2)\n",
        "classifier.fit(X_train, y_train)"
      ],
      "metadata": {
        "colab": {
          "base_uri": "https://localhost:8080/",
          "height": 74
        },
        "id": "Z-vupnhmMBqG",
        "outputId": "f0d563aa-9011-4540-8686-cb36721f3da3"
      },
      "execution_count": null,
      "outputs": [
        {
          "output_type": "execute_result",
          "data": {
            "text/plain": [
              "KNeighborsClassifier()"
            ],
            "text/html": [
              "<style>#sk-container-id-1 {color: black;background-color: white;}#sk-container-id-1 pre{padding: 0;}#sk-container-id-1 div.sk-toggleable {background-color: white;}#sk-container-id-1 label.sk-toggleable__label {cursor: pointer;display: block;width: 100%;margin-bottom: 0;padding: 0.3em;box-sizing: border-box;text-align: center;}#sk-container-id-1 label.sk-toggleable__label-arrow:before {content: \"▸\";float: left;margin-right: 0.25em;color: #696969;}#sk-container-id-1 label.sk-toggleable__label-arrow:hover:before {color: black;}#sk-container-id-1 div.sk-estimator:hover label.sk-toggleable__label-arrow:before {color: black;}#sk-container-id-1 div.sk-toggleable__content {max-height: 0;max-width: 0;overflow: hidden;text-align: left;background-color: #f0f8ff;}#sk-container-id-1 div.sk-toggleable__content pre {margin: 0.2em;color: black;border-radius: 0.25em;background-color: #f0f8ff;}#sk-container-id-1 input.sk-toggleable__control:checked~div.sk-toggleable__content {max-height: 200px;max-width: 100%;overflow: auto;}#sk-container-id-1 input.sk-toggleable__control:checked~label.sk-toggleable__label-arrow:before {content: \"▾\";}#sk-container-id-1 div.sk-estimator input.sk-toggleable__control:checked~label.sk-toggleable__label {background-color: #d4ebff;}#sk-container-id-1 div.sk-label input.sk-toggleable__control:checked~label.sk-toggleable__label {background-color: #d4ebff;}#sk-container-id-1 input.sk-hidden--visually {border: 0;clip: rect(1px 1px 1px 1px);clip: rect(1px, 1px, 1px, 1px);height: 1px;margin: -1px;overflow: hidden;padding: 0;position: absolute;width: 1px;}#sk-container-id-1 div.sk-estimator {font-family: monospace;background-color: #f0f8ff;border: 1px dotted black;border-radius: 0.25em;box-sizing: border-box;margin-bottom: 0.5em;}#sk-container-id-1 div.sk-estimator:hover {background-color: #d4ebff;}#sk-container-id-1 div.sk-parallel-item::after {content: \"\";width: 100%;border-bottom: 1px solid gray;flex-grow: 1;}#sk-container-id-1 div.sk-label:hover label.sk-toggleable__label {background-color: #d4ebff;}#sk-container-id-1 div.sk-serial::before {content: \"\";position: absolute;border-left: 1px solid gray;box-sizing: border-box;top: 0;bottom: 0;left: 50%;z-index: 0;}#sk-container-id-1 div.sk-serial {display: flex;flex-direction: column;align-items: center;background-color: white;padding-right: 0.2em;padding-left: 0.2em;position: relative;}#sk-container-id-1 div.sk-item {position: relative;z-index: 1;}#sk-container-id-1 div.sk-parallel {display: flex;align-items: stretch;justify-content: center;background-color: white;position: relative;}#sk-container-id-1 div.sk-item::before, #sk-container-id-1 div.sk-parallel-item::before {content: \"\";position: absolute;border-left: 1px solid gray;box-sizing: border-box;top: 0;bottom: 0;left: 50%;z-index: -1;}#sk-container-id-1 div.sk-parallel-item {display: flex;flex-direction: column;z-index: 1;position: relative;background-color: white;}#sk-container-id-1 div.sk-parallel-item:first-child::after {align-self: flex-end;width: 50%;}#sk-container-id-1 div.sk-parallel-item:last-child::after {align-self: flex-start;width: 50%;}#sk-container-id-1 div.sk-parallel-item:only-child::after {width: 0;}#sk-container-id-1 div.sk-dashed-wrapped {border: 1px dashed gray;margin: 0 0.4em 0.5em 0.4em;box-sizing: border-box;padding-bottom: 0.4em;background-color: white;}#sk-container-id-1 div.sk-label label {font-family: monospace;font-weight: bold;display: inline-block;line-height: 1.2em;}#sk-container-id-1 div.sk-label-container {text-align: center;}#sk-container-id-1 div.sk-container {/* jupyter's `normalize.less` sets `[hidden] { display: none; }` but bootstrap.min.css set `[hidden] { display: none !important; }` so we also need the `!important` here to be able to override the default hidden behavior on the sphinx rendered scikit-learn.org. See: https://github.com/scikit-learn/scikit-learn/issues/21755 */display: inline-block !important;position: relative;}#sk-container-id-1 div.sk-text-repr-fallback {display: none;}</style><div id=\"sk-container-id-1\" class=\"sk-top-container\"><div class=\"sk-text-repr-fallback\"><pre>KNeighborsClassifier()</pre><b>In a Jupyter environment, please rerun this cell to show the HTML representation or trust the notebook. <br />On GitHub, the HTML representation is unable to render, please try loading this page with nbviewer.org.</b></div><div class=\"sk-container\" hidden><div class=\"sk-item\"><div class=\"sk-estimator sk-toggleable\"><input class=\"sk-toggleable__control sk-hidden--visually\" id=\"sk-estimator-id-1\" type=\"checkbox\" checked><label for=\"sk-estimator-id-1\" class=\"sk-toggleable__label sk-toggleable__label-arrow\">KNeighborsClassifier</label><div class=\"sk-toggleable__content\"><pre>KNeighborsClassifier()</pre></div></div></div></div></div>"
            ]
          },
          "metadata": {},
          "execution_count": 29
        }
      ]
    },
    {
      "cell_type": "code",
      "source": [
        "y_pred = classifier.predict(X_test)"
      ],
      "metadata": {
        "id": "eaxMD75YMEQz"
      },
      "execution_count": null,
      "outputs": []
    },
    {
      "cell_type": "code",
      "source": [
        "from sklearn.metrics import confusion_matrix,accuracy_score\n",
        "cm = confusion_matrix(y_test, y_pred)\n",
        "ac = accuracy_score(y_test,y_pred)\n",
        "print(\"KNN's Accuracy: \", ac)"
      ],
      "metadata": {
        "colab": {
          "base_uri": "https://localhost:8080/"
        },
        "id": "O1fAiw_gMGS0",
        "outputId": "44449b5f-ac58-47f1-a94d-36b8d8eafbfc"
      },
      "execution_count": null,
      "outputs": [
        {
          "output_type": "stream",
          "name": "stdout",
          "text": [
            "KNN's Accuracy:  0.95\n"
          ]
        }
      ]
    },
    {
      "cell_type": "markdown",
      "source": [
        "#2.5.1 Mô hình KNN với k thay đổi"
      ],
      "metadata": {
        "id": "bfkuoteQMKJH"
      }
    },
    {
      "cell_type": "code",
      "source": [
        "#khởi tạo chuỗi\n",
        "scoreListknn = [] \n",
        "#Khởi tạo huấn huyện mô hình knn với vòng lặp thay đổi k từ 1->30\n",
        "for k in range(1,50):\n",
        "    KNclassifier = KNeighborsClassifier(n_neighbors = k, metric = 'minkowski', p = 2)\n",
        "    KNclassifier.fit(X_train, y_train)\n",
        "#Thêm phần tử đánh giá mô hình trên dữ liệu test\n",
        "    scoreListknn.append(KNclassifier.score(X_test, y_test))\n",
        "#Trực quan hóa kết quả đánh giá mô hình khi thay đổi K\n",
        "plt.figure(figsize=(12,5))\n",
        "plt.plot(range(1,50), scoreListknn,c='red',marker='o')\n",
        "plt.xticks(np.arange(1,50,1))\n",
        "plt.xlabel(\"K value\")\n",
        "plt.ylabel(\"Score\")\n",
        "plt.xlabel('Number of Neighbors')\n",
        "plt.ylabel('Accuracy')\n",
        "plt.title('k-NN accuracy by number of Neighbors')\n",
        "plt.show()\n",
        "#in giá trị accuracy tốt nhất\n",
        "KNAcc = max(scoreListknn)\n",
        "print(\"KNN best accuracy: {:.2f}%\".format(KNAcc*100))"
      ],
      "metadata": {
        "colab": {
          "base_uri": "https://localhost:8080/",
          "height": 368
        },
        "id": "epirudYjMKh0",
        "outputId": "7381600c-542b-4c87-c9b3-824004260ea9"
      },
      "execution_count": null,
      "outputs": [
        {
          "output_type": "display_data",
          "data": {
            "text/plain": [
              "<Figure size 864x360 with 1 Axes>"
            ],
            "image/png": "[encoded data removed]"
          },
          "metadata": {
            "needs_background": "light"
          }
        },
        {
          "output_type": "stream",
          "name": "stdout",
          "text": [
            "KNN best accuracy: 95.00%\n"
          ]
        }
      ]
    },
    {
      "cell_type": "code",
      "source": [
        "#Tìm k tối ưu bằng thuộc tính best_params_\n",
        "#Đầu tiên mình phải nạp hàm GridSearchCV\n",
        "from sklearn.model_selection import GridSearchCV\n",
        "#Tiến hành chia tập huấn luyện và tập kiểm tra\n",
        "knn_grid = GridSearchCV(estimator = KNeighborsClassifier(), param_grid={'n_neighbors': np.arange(1,50)},cv=5)\n",
        "knn_grid.fit(X_train,y_train)\n",
        "knn_grid.best_params_\n",
        "#tham khảo\n",
        "#https://datasciencebasic.com/?p=134 "
      ],
      "metadata": {
        "colab": {
          "base_uri": "https://localhost:8080/"
        },
        "id": "riUp4wlOMPcs",
        "outputId": "f62e20c0-f1bb-4a4a-bae1-8a5ebd717032"
      },
      "execution_count": null,
      "outputs": [
        {
          "output_type": "execute_result",
          "data": {
            "text/plain": [
              "{'n_neighbors': 9}"
            ]
          },
          "metadata": {},
          "execution_count": 33
        }
      ]
    },
    {
      "cell_type": "markdown",
      "source": [
        "Vậy ta chọn n_neighbors (hay k) = 9"
      ],
      "metadata": {
        "id": "bOSeQCb2VIAo"
      }
    },
    {
      "cell_type": "markdown",
      "source": [
        "# 2.5.2 Mô hình KNN với lời nguyền của chiều dữ liệu"
      ],
      "metadata": {
        "id": "iP61BESZMTVU"
      }
    },
    {
      "cell_type": "markdown",
      "source": [
        "##Trước khi sử dụng PCA"
      ],
      "metadata": {
        "id": "sjWpJH9FMVd8"
      }
    },
    {
      "cell_type": "code",
      "source": [
        "from sklearn.neighbors import KNeighborsClassifier\n",
        "classifier = KNeighborsClassifier(n_neighbors = 9, metric = 'minkowski', p = 2)\n",
        "classifier.fit(X_train, y_train)"
      ],
      "metadata": {
        "colab": {
          "base_uri": "https://localhost:8080/",
          "height": 74
        },
        "id": "4mIpNdmGMT0E",
        "outputId": "df29c76d-194a-4b6d-857f-9a2b73b4dc67"
      },
      "execution_count": null,
      "outputs": [
        {
          "output_type": "execute_result",
          "data": {
            "text/plain": [
              "KNeighborsClassifier(n_neighbors=9)"
            ],
            "text/html": [
              "<style>#sk-container-id-2 {color: black;background-color: white;}#sk-container-id-2 pre{padding: 0;}#sk-container-id-2 div.sk-toggleable {background-color: white;}#sk-container-id-2 label.sk-toggleable__label {cursor: pointer;display: block;width: 100%;margin-bottom: 0;padding: 0.3em;box-sizing: border-box;text-align: center;}#sk-container-id-2 label.sk-toggleable__label-arrow:before {content: \"▸\";float: left;margin-right: 0.25em;color: #696969;}#sk-container-id-2 label.sk-toggleable__label-arrow:hover:before {color: black;}#sk-container-id-2 div.sk-estimator:hover label.sk-toggleable__label-arrow:before {color: black;}#sk-container-id-2 div.sk-toggleable__content {max-height: 0;max-width: 0;overflow: hidden;text-align: left;background-color: #f0f8ff;}#sk-container-id-2 div.sk-toggleable__content pre {margin: 0.2em;color: black;border-radius: 0.25em;background-color: #f0f8ff;}#sk-container-id-2 input.sk-toggleable__control:checked~div.sk-toggleable__content {max-height: 200px;max-width: 100%;overflow: auto;}#sk-container-id-2 input.sk-toggleable__control:checked~label.sk-toggleable__label-arrow:before {content: \"▾\";}#sk-container-id-2 div.sk-estimator input.sk-toggleable__control:checked~label.sk-toggleable__label {background-color: #d4ebff;}#sk-container-id-2 div.sk-label input.sk-toggleable__control:checked~label.sk-toggleable__label {background-color: #d4ebff;}#sk-container-id-2 input.sk-hidden--visually {border: 0;clip: rect(1px 1px 1px 1px);clip: rect(1px, 1px, 1px, 1px);height: 1px;margin: -1px;overflow: hidden;padding: 0;position: absolute;width: 1px;}#sk-container-id-2 div.sk-estimator {font-family: monospace;background-color: #f0f8ff;border: 1px dotted black;border-radius: 0.25em;box-sizing: border-box;margin-bottom: 0.5em;}#sk-container-id-2 div.sk-estimator:hover {background-color: #d4ebff;}#sk-container-id-2 div.sk-parallel-item::after {content: \"\";width: 100%;border-bottom: 1px solid gray;flex-grow: 1;}#sk-container-id-2 div.sk-label:hover label.sk-toggleable__label {background-color: #d4ebff;}#sk-container-id-2 div.sk-serial::before {content: \"\";position: absolute;border-left: 1px solid gray;box-sizing: border-box;top: 0;bottom: 0;left: 50%;z-index: 0;}#sk-container-id-2 div.sk-serial {display: flex;flex-direction: column;align-items: center;background-color: white;padding-right: 0.2em;padding-left: 0.2em;position: relative;}#sk-container-id-2 div.sk-item {position: relative;z-index: 1;}#sk-container-id-2 div.sk-parallel {display: flex;align-items: stretch;justify-content: center;background-color: white;position: relative;}#sk-container-id-2 div.sk-item::before, #sk-container-id-2 div.sk-parallel-item::before {content: \"\";position: absolute;border-left: 1px solid gray;box-sizing: border-box;top: 0;bottom: 0;left: 50%;z-index: -1;}#sk-container-id-2 div.sk-parallel-item {display: flex;flex-direction: column;z-index: 1;position: relative;background-color: white;}#sk-container-id-2 div.sk-parallel-item:first-child::after {align-self: flex-end;width: 50%;}#sk-container-id-2 div.sk-parallel-item:last-child::after {align-self: flex-start;width: 50%;}#sk-container-id-2 div.sk-parallel-item:only-child::after {width: 0;}#sk-container-id-2 div.sk-dashed-wrapped {border: 1px dashed gray;margin: 0 0.4em 0.5em 0.4em;box-sizing: border-box;padding-bottom: 0.4em;background-color: white;}#sk-container-id-2 div.sk-label label {font-family: monospace;font-weight: bold;display: inline-block;line-height: 1.2em;}#sk-container-id-2 div.sk-label-container {text-align: center;}#sk-container-id-2 div.sk-container {/* jupyter's `normalize.less` sets `[hidden] { display: none; }` but bootstrap.min.css set `[hidden] { display: none !important; }` so we also need the `!important` here to be able to override the default hidden behavior on the sphinx rendered scikit-learn.org. See: https://github.com/scikit-learn/scikit-learn/issues/21755 */display: inline-block !important;position: relative;}#sk-container-id-2 div.sk-text-repr-fallback {display: none;}</style><div id=\"sk-container-id-2\" class=\"sk-top-container\"><div class=\"sk-text-repr-fallback\"><pre>KNeighborsClassifier(n_neighbors=9)</pre><b>In a Jupyter environment, please rerun this cell to show the HTML representation or trust the notebook. <br />On GitHub, the HTML representation is unable to render, please try loading this page with nbviewer.org.</b></div><div class=\"sk-container\" hidden><div class=\"sk-item\"><div class=\"sk-estimator sk-toggleable\"><input class=\"sk-toggleable__control sk-hidden--visually\" id=\"sk-estimator-id-2\" type=\"checkbox\" checked><label for=\"sk-estimator-id-2\" class=\"sk-toggleable__label sk-toggleable__label-arrow\">KNeighborsClassifier</label><div class=\"sk-toggleable__content\"><pre>KNeighborsClassifier(n_neighbors=9)</pre></div></div></div></div></div>"
            ]
          },
          "metadata": {},
          "execution_count": 34
        }
      ]
    },
    {
      "cell_type": "code",
      "source": [
        "y_pred = classifier.predict(X_test)"
      ],
      "metadata": {
        "id": "2fUB66f7MYT9"
      },
      "execution_count": null,
      "outputs": []
    },
    {
      "cell_type": "code",
      "source": [
        "from sklearn.metrics import confusion_matrix,accuracy_score\n",
        "cm = confusion_matrix(y_test, y_pred)\n",
        "ac = accuracy_score(y_test,y_pred)\n",
        "print(\"KNN's Accuracy: \", ac)"
      ],
      "metadata": {
        "colab": {
          "base_uri": "https://localhost:8080/"
        },
        "id": "xY9Z8X57MZmM",
        "outputId": "76693d34-4c64-49fb-f4f4-859867f97c85"
      },
      "execution_count": null,
      "outputs": [
        {
          "output_type": "stream",
          "name": "stdout",
          "text": [
            "KNN's Accuracy:  0.95\n"
          ]
        }
      ]
    },
    {
      "cell_type": "markdown",
      "source": [
        "##PCA (Principle Component Analysis)\n",
        "Biến X có 2 chiều dữ liệu: Age, EstimatedSalary"
      ],
      "metadata": {
        "id": "nyiNkOASMeJE"
      }
    },
    {
      "cell_type": "code",
      "source": [
        "from sklearn.decomposition import PCA"
      ],
      "metadata": {
        "id": "8RzJLT3xMemM"
      },
      "execution_count": null,
      "outputs": []
    },
    {
      "cell_type": "code",
      "source": [
        "#Áp dụng PCA với số chiều = 1\n",
        "pca = PCA(n_components = 1)\n",
        "  \n",
        "X_train_pca = pca.fit_transform(X_train)\n",
        "X_test_pca = pca.transform(X_test)\n",
        "  \n",
        "explained_variance = pca.explained_variance_ratio_"
      ],
      "metadata": {
        "id": "442dk3GoMgn0"
      },
      "execution_count": null,
      "outputs": []
    },
    {
      "cell_type": "code",
      "source": [
        "#Show tập X_train sau khi áp dụng PCA\n",
        "X_train_pca"
      ],
      "metadata": {
        "id": "g_0mip6_MjTX",
        "colab": {
          "base_uri": "https://localhost:8080/"
        },
        "outputId": "89106273-80be-4673-c028-160a073fa300"
      },
      "execution_count": null,
      "outputs": [
        {
          "output_type": "execute_result",
          "data": {
            "text/plain": [
              "array([[ 2.87719326e+00],\n",
              "       [ 1.69626440e+00],\n",
              "       [-1.28319658e+00],\n",
              "       [-1.55544679e+00],\n",
              "       [ 7.05640353e-01],\n",
              "       [ 4.66252930e-01],\n",
              "       [ 2.26344433e-01],\n",
              "       [ 2.65912277e+00],\n",
              "       [-5.77611383e-02],\n",
              "       [-1.22124121e-02],\n",
              "       [ 1.38471359e-01],\n",
              "       [ 1.47466002e+00],\n",
              "       [-1.49533939e+00],\n",
              "       [-1.66515786e+00],\n",
              "       [-6.89092481e-01],\n",
              "       [-2.37041168e-01],\n",
              "       [-1.18804417e+00],\n",
              "       [-8.41751681e-02],\n",
              "       [ 1.08354668e+00],\n",
              "       [ 9.57925288e-01],\n",
              "       [-2.36210591e-01],\n",
              "       [ 5.98323079e-01],\n",
              "       [-4.23291028e-01],\n",
              "       [ 9.05618302e-01],\n",
              "       [-5.50578348e-02],\n",
              "       [ 1.71404745e+00],\n",
              "       [-5.18443436e-01],\n",
              "       [-1.97941198e-01],\n",
              "       [-5.60767784e-01],\n",
              "       [-2.94445257e-01],\n",
              "       [-1.14166487e+00],\n",
              "       [-6.29506162e-01],\n",
              "       [ 3.22848493e-01],\n",
              "       [ 1.74868025e-01],\n",
              "       [ 5.90001597e-01],\n",
              "       [ 6.40126353e-01],\n",
              "       [ 1.71727182e+00],\n",
              "       [-1.05492094e-01],\n",
              "       [ 7.82179139e-01],\n",
              "       [ 2.15840722e-01],\n",
              "       [-1.96517375e+00],\n",
              "       [ 2.15424339e+00],\n",
              "       [ 8.46862561e-01],\n",
              "       [ 8.81907576e-01],\n",
              "       [-8.68784717e-02],\n",
              "       [-4.45129028e-01],\n",
              "       [ 7.97156176e-02],\n",
              "       [ 1.98494600e+00],\n",
              "       [ 8.67348910e-01],\n",
              "       [ 9.65725695e-01],\n",
              "       [-1.96517375e+00],\n",
              "       [ 9.25062502e-01],\n",
              "       [-2.02070511e+00],\n",
              "       [ 1.87981096e+00],\n",
              "       [ 1.06898801e+00],\n",
              "       [-9.26297674e-01],\n",
              "       [ 5.87819368e-01],\n",
              "       [-3.11707228e-01],\n",
              "       [ 2.33623767e-01],\n",
              "       [-4.33794740e-01],\n",
              "       [-3.77742302e-01],\n",
              "       [-1.00501869e+00],\n",
              "       [-4.12787317e-01],\n",
              "       [ 4.66252930e-01],\n",
              "       [-1.78806501e-01],\n",
              "       [ 1.26116556e+00],\n",
              "       [ 1.44399040e-01],\n",
              "       [ 2.43699731e+00],\n",
              "       [ 7.20720094e-01],\n",
              "       [-1.17347457e-01],\n",
              "       [-4.02804680e-01],\n",
              "       [-4.86090788e-02],\n",
              "       [ 8.15883439e-02],\n",
              "       [-1.97941198e-01],\n",
              "       [ 2.27716148e+00],\n",
              "       [-1.00501869e+00],\n",
              "       [ 1.37441051e+00],\n",
              "       [ 1.58957707e-01],\n",
              "       [-6.33561118e-01],\n",
              "       [ 1.49920133e+00],\n",
              "       [-4.04156332e-01],\n",
              "       [-1.22308919e+00],\n",
              "       [-1.23359290e+00],\n",
              "       [ 5.40918990e-01],\n",
              "       [-8.40297326e-01],\n",
              "       [-3.59959257e-01],\n",
              "       [-5.18443436e-01],\n",
              "       [ 3.84828612e-01],\n",
              "       [ 4.88612005e-01],\n",
              "       [-5.58895058e-01],\n",
              "       [-1.99292850e-01],\n",
              "       [-8.23024419e-02],\n",
              "       [-8.54855993e-01],\n",
              "       [-3.57777028e-01],\n",
              "       [ 1.35766962e+00],\n",
              "       [ 2.06689139e+00],\n",
              "       [-5.10643028e-01],\n",
              "       [-7.22785844e-01],\n",
              "       [ 2.34184491e+00],\n",
              "       [-8.28235163e-02],\n",
              "       [-4.24642680e-01],\n",
              "       [ 5.23657020e-01],\n",
              "       [ 1.94523796e-01],\n",
              "       [-8.41751681e-02],\n",
              "       [ 3.97514552e-01],\n",
              "       [ 1.20646477e+00],\n",
              "       [-1.56002282e+00],\n",
              "       [-4.74246362e-01],\n",
              "       [ 1.53882237e+00],\n",
              "       [ 1.55285996e+00],\n",
              "       [-1.92097668e+00],\n",
              "       [ 8.32303895e-01],\n",
              "       [ 6.71116412e-01],\n",
              "       [-2.14372591e-01],\n",
              "       [-1.39155600e+00],\n",
              "       [ 2.87803478e-01],\n",
              "       [ 3.10993130e-01],\n",
              "       [ 8.56324124e-01],\n",
              "       [ 6.18288353e-01],\n",
              "       [ 2.10434115e-01],\n",
              "       [-9.26297674e-01],\n",
              "       [-1.42409835e-01],\n",
              "       [ 2.92544529e+00],\n",
              "       [ 3.91065796e-01],\n",
              "       [ 2.93210085e-01],\n",
              "       [ 1.48599431e+00],\n",
              "       [ 2.51301503e+00],\n",
              "       [-1.10069217e+00],\n",
              "       [ 1.99628029e+00],\n",
              "       [-4.45541235e-02],\n",
              "       [-7.98803555e-01],\n",
              "       [-4.26515406e-01],\n",
              "       [ 1.58957707e-01],\n",
              "       [-4.14138969e-01],\n",
              "       [-2.38913894e-01],\n",
              "       [-5.51615725e-01],\n",
              "       [-1.49263609e+00],\n",
              "       [-6.18160937e-02],\n",
              "       [-1.42067334e+00],\n",
              "       [-4.32024717e-02],\n",
              "       [-1.17868531e-01],\n",
              "       [-1.15995805e-01],\n",
              "       [-1.85546268e+00],\n",
              "       [-3.24083665e-01],\n",
              "       [ 2.12835044e+00],\n",
              "       [-1.92420106e+00],\n",
              "       [ 3.33352204e-01],\n",
              "       [-1.70175516e-01],\n",
              "       [-1.85681433e+00],\n",
              "       [-1.49128444e+00],\n",
              "       [ 9.05097228e-01],\n",
              "       [-4.65615377e-01],\n",
              "       [ 1.01886326e+00],\n",
              "       [-1.32427198e-01],\n",
              "       [ 1.64885389e-01],\n",
              "       [ 1.88596115e-01],\n",
              "       [-2.32342431e+00],\n",
              "       [-4.97436013e-01],\n",
              "       [ 1.48975070e-01],\n",
              "       [-1.47942908e+00],\n",
              "       [-2.13020939e-01],\n",
              "       [-1.01437138e-01],\n",
              "       [ 2.78651418e-01],\n",
              "       [-1.78806501e-01],\n",
              "       [ 1.59892976e+00],\n",
              "       [-2.42138272e-01],\n",
              "       [ 7.56606623e-02],\n",
              "       [-1.16890947e+00],\n",
              "       [-5.29777725e-01],\n",
              "       [-3.71814621e-01],\n",
              "       [-3.16804332e-01],\n",
              "       [-6.04644419e-02],\n",
              "       [ 5.71909049e-01],\n",
              "       [ 1.91299418e-01],\n",
              "       [ 3.63821189e-01],\n",
              "       [ 1.33895329e-01],\n",
              "       [ 1.57606055e-01],\n",
              "       [-2.24147892e+00],\n",
              "       [ 1.22561040e-01],\n",
              "       [-3.55904302e-01],\n",
              "       [-1.76103198e-01],\n",
              "       [ 9.75708332e-01],\n",
              "       [-1.66120561e-01],\n",
              "       [ 9.96194680e-01],\n",
              "       [ 2.19116114e+00],\n",
              "       [-1.03600875e+00],\n",
              "       [ 6.92228431e-03],\n",
              "       [-1.29202820e-01],\n",
              "       [-1.99429109e+00],\n",
              "       [-5.62119436e-01],\n",
              "       [ 7.55765109e-01],\n",
              "       [ 3.98345130e-01],\n",
              "       [ 1.05848430e+00],\n",
              "       [ 5.36864034e-01],\n",
              "       [ 1.08624998e+00],\n",
              "       [-3.58607606e-01],\n",
              "       [ 1.87336220e+00],\n",
              "       [-1.20717887e+00],\n",
              "       [ 6.51981716e-01],\n",
              "       [-1.28319658e+00],\n",
              "       [ 2.26344433e-01],\n",
              "       [-1.21768258e+00],\n",
              "       [ 1.81242423e+00],\n",
              "       [-2.17866822e+00],\n",
              "       [-7.46496570e-01],\n",
              "       [ 1.62076776e+00],\n",
              "       [-1.75438259e+00],\n",
              "       [-4.47001755e-01],\n",
              "       [-5.27074421e-01],\n",
              "       [ 1.78278582e+00],\n",
              "       [ 1.67765078e+00],\n",
              "       [-5.68047118e-01],\n",
              "       [ 1.43368733e+00],\n",
              "       [-1.12658513e+00],\n",
              "       [ 1.29028289e+00],\n",
              "       [-7.40568888e-01],\n",
              "       [-9.51360052e-01],\n",
              "       [-5.15740132e-01],\n",
              "       [-1.69022024e+00],\n",
              "       [-2.36439700e+00],\n",
              "       [ 8.24503487e-01],\n",
              "       [ 1.12046442e+00],\n",
              "       [-1.58320153e-01],\n",
              "       [ 7.56606623e-02],\n",
              "       [-1.93875972e+00],\n",
              "       [ 2.33623767e-01],\n",
              "       [-3.65886939e-01],\n",
              "       [ 1.84850662e-01],\n",
              "       [-7.52424252e-01],\n",
              "       [ 2.01292992e-02],\n",
              "       [-1.10339547e+00],\n",
              "       [-5.35705406e-01],\n",
              "       [-6.63921235e-02],\n",
              "       [ 7.68141546e-01],\n",
              "       [ 1.85017255e+00],\n",
              "       [ 1.14760633e-01],\n",
              "       [ 2.51436668e+00],\n",
              "       [-8.16586600e-01],\n",
              "       [-1.74230472e-01],\n",
              "       [-1.94468740e+00],\n",
              "       [-1.15622353e+00],\n",
              "       [ 2.33623767e-01],\n",
              "       [-9.09035704e-01],\n",
              "       [ 2.28173751e+00],\n",
              "       [ 1.92348696e+00],\n",
              "       [ 2.13137418e-01],\n",
              "       [-7.27361874e-01],\n",
              "       [-4.13297455e-02],\n",
              "       [ 4.92466325e-02],\n",
              "       [ 8.90017487e-01],\n",
              "       [ 3.78900930e-01],\n",
              "       [-1.68106818e+00],\n",
              "       [-3.57049022e-04],\n",
              "       [-3.26987603e-02],\n",
              "       [ 1.13179871e+00],\n",
              "       [-5.16570710e-01],\n",
              "       [ 1.26334778e+00],\n",
              "       [-1.42409835e-01],\n",
              "       [ 7.61171716e-01],\n",
              "       [ 5.58702034e-01],\n",
              "       [-1.14114379e+00],\n",
              "       [ 6.92228431e-03],\n",
              "       [ 7.92682850e-01],\n",
              "       [-3.48624969e-01],\n",
              "       [-7.97451903e-01],\n",
              "       [-1.18263756e+00],\n",
              "       [ 1.86473122e+00],\n",
              "       [-1.64924754e+00],\n",
              "       [ 1.36630060e+00],\n",
              "       [-1.18534087e+00],\n",
              "       [-9.10387356e-01],\n",
              "       [-8.75342341e-01],\n",
              "       [-3.19507635e-01],\n",
              "       [ 2.33623767e-01],\n",
              "       [ 1.36630060e+00],\n",
              "       [ 6.02899109e-01],\n",
              "       [-2.28837929e+00],\n",
              "       [-1.61690583e+00],\n",
              "       [-5.76678103e-01],\n",
              "       [ 1.16633359e-01],\n",
              "       [ 3.77028204e-01],\n",
              "       [ 1.95354374e-01],\n",
              "       [-6.26802859e-01],\n",
              "       [ 3.88883567e-01],\n",
              "       [ 1.00700789e+00],\n",
              "       [-1.89050769e+00],\n",
              "       [-1.37699734e+00],\n",
              "       [-3.20859287e-01],\n",
              "       [-4.78822391e-01],\n",
              "       [-1.94739071e+00],\n",
              "       [ 1.92026258e+00],\n",
              "       [-1.42409835e-01],\n",
              "       [ 1.03987068e+00],\n",
              "       [-2.21371323e+00],\n",
              "       [ 2.14809510e-02],\n",
              "       [-4.19236073e-01],\n",
              "       [-1.06055005e+00],\n",
              "       [-3.54020639e-02],\n",
              "       [ 5.34470234e-01],\n",
              "       [-2.47544879e-01],\n",
              "       [ 1.07481299e-01],\n",
              "       [-1.56865380e+00],\n",
              "       [-1.31959325e+00],\n",
              "       [ 2.39551448e-01],\n",
              "       [-6.13074769e-01],\n",
              "       [-7.02299496e-01],\n",
              "       [-3.93652621e-01],\n",
              "       [ 5.19911567e-01],\n",
              "       [ 1.18005074e+00],\n",
              "       [ 1.11131236e+00],\n",
              "       [ 2.58768109e+00],\n",
              "       [-3.22210939e-01],\n",
              "       [-6.63921235e-02],\n",
              "       [-8.41648978e-01],\n",
              "       [-4.51056710e-01],\n",
              "       [-1.45634213e-01],\n",
              "       [-1.18534087e+00],\n",
              "       [-5.19795088e-01],\n",
              "       [-1.09746779e+00],\n",
              "       [ 1.44920115e-01]])"
            ]
          },
          "metadata": {},
          "execution_count": 39
        }
      ]
    },
    {
      "cell_type": "markdown",
      "source": [
        "##Sau khi sử dụng PCA"
      ],
      "metadata": {
        "id": "aa6ZqxIDMls9"
      }
    },
    {
      "cell_type": "code",
      "source": [
        "classifier = KNeighborsClassifier(n_neighbors = 9, metric = 'minkowski', p = 2)\n",
        "classifier.fit(X_train_pca, y_train)"
      ],
      "metadata": {
        "colab": {
          "base_uri": "https://localhost:8080/",
          "height": 74
        },
        "id": "BM3-6i6JMmIq",
        "outputId": "9b9c249f-d6f5-44ba-d059-10cfa6b22132"
      },
      "execution_count": null,
      "outputs": [
        {
          "output_type": "execute_result",
          "data": {
            "text/plain": [
              "KNeighborsClassifier(n_neighbors=9)"
            ],
            "text/html": [
              "<style>#sk-container-id-3 {color: black;background-color: white;}#sk-container-id-3 pre{padding: 0;}#sk-container-id-3 div.sk-toggleable {background-color: white;}#sk-container-id-3 label.sk-toggleable__label {cursor: pointer;display: block;width: 100%;margin-bottom: 0;padding: 0.3em;box-sizing: border-box;text-align: center;}#sk-container-id-3 label.sk-toggleable__label-arrow:before {content: \"▸\";float: left;margin-right: 0.25em;color: #696969;}#sk-container-id-3 label.sk-toggleable__label-arrow:hover:before {color: black;}#sk-container-id-3 div.sk-estimator:hover label.sk-toggleable__label-arrow:before {color: black;}#sk-container-id-3 div.sk-toggleable__content {max-height: 0;max-width: 0;overflow: hidden;text-align: left;background-color: #f0f8ff;}#sk-container-id-3 div.sk-toggleable__content pre {margin: 0.2em;color: black;border-radius: 0.25em;background-color: #f0f8ff;}#sk-container-id-3 input.sk-toggleable__control:checked~div.sk-toggleable__content {max-height: 200px;max-width: 100%;overflow: auto;}#sk-container-id-3 input.sk-toggleable__control:checked~label.sk-toggleable__label-arrow:before {content: \"▾\";}#sk-container-id-3 div.sk-estimator input.sk-toggleable__control:checked~label.sk-toggleable__label {background-color: #d4ebff;}#sk-container-id-3 div.sk-label input.sk-toggleable__control:checked~label.sk-toggleable__label {background-color: #d4ebff;}#sk-container-id-3 input.sk-hidden--visually {border: 0;clip: rect(1px 1px 1px 1px);clip: rect(1px, 1px, 1px, 1px);height: 1px;margin: -1px;overflow: hidden;padding: 0;position: absolute;width: 1px;}#sk-container-id-3 div.sk-estimator {font-family: monospace;background-color: #f0f8ff;border: 1px dotted black;border-radius: 0.25em;box-sizing: border-box;margin-bottom: 0.5em;}#sk-container-id-3 div.sk-estimator:hover {background-color: #d4ebff;}#sk-container-id-3 div.sk-parallel-item::after {content: \"\";width: 100%;border-bottom: 1px solid gray;flex-grow: 1;}#sk-container-id-3 div.sk-label:hover label.sk-toggleable__label {background-color: #d4ebff;}#sk-container-id-3 div.sk-serial::before {content: \"\";position: absolute;border-left: 1px solid gray;box-sizing: border-box;top: 0;bottom: 0;left: 50%;z-index: 0;}#sk-container-id-3 div.sk-serial {display: flex;flex-direction: column;align-items: center;background-color: white;padding-right: 0.2em;padding-left: 0.2em;position: relative;}#sk-container-id-3 div.sk-item {position: relative;z-index: 1;}#sk-container-id-3 div.sk-parallel {display: flex;align-items: stretch;justify-content: center;background-color: white;position: relative;}#sk-container-id-3 div.sk-item::before, #sk-container-id-3 div.sk-parallel-item::before {content: \"\";position: absolute;border-left: 1px solid gray;box-sizing: border-box;top: 0;bottom: 0;left: 50%;z-index: -1;}#sk-container-id-3 div.sk-parallel-item {display: flex;flex-direction: column;z-index: 1;position: relative;background-color: white;}#sk-container-id-3 div.sk-parallel-item:first-child::after {align-self: flex-end;width: 50%;}#sk-container-id-3 div.sk-parallel-item:last-child::after {align-self: flex-start;width: 50%;}#sk-container-id-3 div.sk-parallel-item:only-child::after {width: 0;}#sk-container-id-3 div.sk-dashed-wrapped {border: 1px dashed gray;margin: 0 0.4em 0.5em 0.4em;box-sizing: border-box;padding-bottom: 0.4em;background-color: white;}#sk-container-id-3 div.sk-label label {font-family: monospace;font-weight: bold;display: inline-block;line-height: 1.2em;}#sk-container-id-3 div.sk-label-container {text-align: center;}#sk-container-id-3 div.sk-container {/* jupyter's `normalize.less` sets `[hidden] { display: none; }` but bootstrap.min.css set `[hidden] { display: none !important; }` so we also need the `!important` here to be able to override the default hidden behavior on the sphinx rendered scikit-learn.org. See: https://github.com/scikit-learn/scikit-learn/issues/21755 */display: inline-block !important;position: relative;}#sk-container-id-3 div.sk-text-repr-fallback {display: none;}</style><div id=\"sk-container-id-3\" class=\"sk-top-container\"><div class=\"sk-text-repr-fallback\"><pre>KNeighborsClassifier(n_neighbors=9)</pre><b>In a Jupyter environment, please rerun this cell to show the HTML representation or trust the notebook. <br />On GitHub, the HTML representation is unable to render, please try loading this page with nbviewer.org.</b></div><div class=\"sk-container\" hidden><div class=\"sk-item\"><div class=\"sk-estimator sk-toggleable\"><input class=\"sk-toggleable__control sk-hidden--visually\" id=\"sk-estimator-id-3\" type=\"checkbox\" checked><label for=\"sk-estimator-id-3\" class=\"sk-toggleable__label sk-toggleable__label-arrow\">KNeighborsClassifier</label><div class=\"sk-toggleable__content\"><pre>KNeighborsClassifier(n_neighbors=9)</pre></div></div></div></div></div>"
            ]
          },
          "metadata": {},
          "execution_count": 40
        }
      ]
    },
    {
      "cell_type": "code",
      "source": [
        "y_pred = classifier.predict(X_test_pca)"
      ],
      "metadata": {
        "id": "0T4M2kFQMpEj"
      },
      "execution_count": null,
      "outputs": []
    },
    {
      "cell_type": "code",
      "source": [
        "from sklearn.metrics import confusion_matrix,accuracy_score\n",
        "cm = confusion_matrix(y_test, y_pred)\n",
        "ac = accuracy_score(y_test,y_pred)\n",
        "print(\"KNN's Accuracy: \", ac)"
      ],
      "metadata": {
        "colab": {
          "base_uri": "https://localhost:8080/"
        },
        "id": "8cYWoNDfMpJ6",
        "outputId": "ebaf6212-0c02-4385-bc6f-4e0a8c1cb0e5"
      },
      "execution_count": null,
      "outputs": [
        {
          "output_type": "stream",
          "name": "stdout",
          "text": [
            "KNN's Accuracy:  0.875\n"
          ]
        }
      ]
    },
    {
      "cell_type": "code",
      "source": [
        "import matplotlib.pyplot as mp\n",
        "import seaborn as sb\n",
        "\n",
        "dataplot = sb.heatmap(social_network_ads.corr(), cmap=\"YlGnBu\", annot=True)\n",
        "mp.show()"
      ],
      "metadata": {
        "colab": {
          "base_uri": "https://localhost:8080/",
          "height": 269
        },
        "id": "FZuaGWdoXeSa",
        "outputId": "f163fec9-2c3b-41eb-832b-ae443d4aa62d"
      },
      "execution_count": null,
      "outputs": [
        {
          "output_type": "display_data",
          "data": {
            "text/plain": [
              "<Figure size 432x288 with 2 Axes>"
            ],
            "image/png": "[encoded data removed]"
          },
          "metadata": {
            "needs_background": "light"
          }
        }
      ]
    },
    {
      "cell_type": "markdown",
      "source": [
        "#2.5.3 Mô hình khác có thể áp dụng vào bài toán - Random Forest"
      ],
      "metadata": {
        "id": "542BL9bMM5Pt"
      }
    },
    {
      "cell_type": "code",
      "source": [
        "import numpy as np \n",
        "import pandas as pd\n",
        "from sklearn.tree import DecisionTreeClassifier"
      ],
      "metadata": {
        "id": "yXdIh1WVM5vn"
      },
      "execution_count": null,
      "outputs": []
    },
    {
      "cell_type": "markdown",
      "source": [
        "####Setting up the Decision Tree"
      ],
      "metadata": {
        "id": "ZzZuHlbgM77t"
      }
    },
    {
      "cell_type": "code",
      "source": [
        "from sklearn.model_selection import train_test_split"
      ],
      "metadata": {
        "id": "AJs44sYLM9cm"
      },
      "execution_count": null,
      "outputs": []
    },
    {
      "cell_type": "code",
      "source": [
        "X_trainset, X_testset, y_trainset, y_testset = train_test_split(X, y, test_size=0.2, random_state=3)"
      ],
      "metadata": {
        "id": "Zh0YNBh8NDv8"
      },
      "execution_count": null,
      "outputs": []
    },
    {
      "cell_type": "markdown",
      "source": [
        "##Practice"
      ],
      "metadata": {
        "id": "1bn9LJXNNFwf"
      }
    },
    {
      "cell_type": "code",
      "source": [
        "print(X_trainset.shape)\n",
        "print(y_trainset.shape)"
      ],
      "metadata": {
        "colab": {
          "base_uri": "https://localhost:8080/"
        },
        "id": "O8Zr2s53NGOZ",
        "outputId": "8fe621b6-3da4-4275-b340-7fc78bf40fd4"
      },
      "execution_count": null,
      "outputs": [
        {
          "output_type": "stream",
          "name": "stdout",
          "text": [
            "(320, 2)\n",
            "(320,)\n"
          ]
        }
      ]
    },
    {
      "cell_type": "code",
      "source": [
        "print(X_testset.shape)\n",
        "print(y_testset.shape)"
      ],
      "metadata": {
        "colab": {
          "base_uri": "https://localhost:8080/"
        },
        "id": "5I5uJ0WdNIqk",
        "outputId": "faffb604-55ad-4d0a-aec1-d1886920a1fd"
      },
      "execution_count": null,
      "outputs": [
        {
          "output_type": "stream",
          "name": "stdout",
          "text": [
            "(80, 2)\n",
            "(80,)\n"
          ]
        }
      ]
    },
    {
      "cell_type": "markdown",
      "source": [
        "##Modeling"
      ],
      "metadata": {
        "id": "NDHrI-ISNLLk"
      }
    },
    {
      "cell_type": "code",
      "source": [
        "purchasedTree = DecisionTreeClassifier(criterion=\"entropy\", max_depth = 4)\n",
        "purchasedTree # it shows the default parameters"
      ],
      "metadata": {
        "colab": {
          "base_uri": "https://localhost:8080/",
          "height": 74
        },
        "id": "0uOz64p6NLtM",
        "outputId": "356816e8-d8f5-45ed-f69a-b4ebbf1f8a75"
      },
      "execution_count": null,
      "outputs": [
        {
          "output_type": "execute_result",
          "data": {
            "text/plain": [
              "DecisionTreeClassifier(criterion='entropy', max_depth=4)"
            ],
            "text/html": [
              "<style>#sk-container-id-4 {color: black;background-color: white;}#sk-container-id-4 pre{padding: 0;}#sk-container-id-4 div.sk-toggleable {background-color: white;}#sk-container-id-4 label.sk-toggleable__label {cursor: pointer;display: block;width: 100%;margin-bottom: 0;padding: 0.3em;box-sizing: border-box;text-align: center;}#sk-container-id-4 label.sk-toggleable__label-arrow:before {content: \"▸\";float: left;margin-right: 0.25em;color: #696969;}#sk-container-id-4 label.sk-toggleable__label-arrow:hover:before {color: black;}#sk-container-id-4 div.sk-estimator:hover label.sk-toggleable__label-arrow:before {color: black;}#sk-container-id-4 div.sk-toggleable__content {max-height: 0;max-width: 0;overflow: hidden;text-align: left;background-color: #f0f8ff;}#sk-container-id-4 div.sk-toggleable__content pre {margin: 0.2em;color: black;border-radius: 0.25em;background-color: #f0f8ff;}#sk-container-id-4 input.sk-toggleable__control:checked~div.sk-toggleable__content {max-height: 200px;max-width: 100%;overflow: auto;}#sk-container-id-4 input.sk-toggleable__control:checked~label.sk-toggleable__label-arrow:before {content: \"▾\";}#sk-container-id-4 div.sk-estimator input.sk-toggleable__control:checked~label.sk-toggleable__label {background-color: #d4ebff;}#sk-container-id-4 div.sk-label input.sk-toggleable__control:checked~label.sk-toggleable__label {background-color: #d4ebff;}#sk-container-id-4 input.sk-hidden--visually {border: 0;clip: rect(1px 1px 1px 1px);clip: rect(1px, 1px, 1px, 1px);height: 1px;margin: -1px;overflow: hidden;padding: 0;position: absolute;width: 1px;}#sk-container-id-4 div.sk-estimator {font-family: monospace;background-color: #f0f8ff;border: 1px dotted black;border-radius: 0.25em;box-sizing: border-box;margin-bottom: 0.5em;}#sk-container-id-4 div.sk-estimator:hover {background-color: #d4ebff;}#sk-container-id-4 div.sk-parallel-item::after {content: \"\";width: 100%;border-bottom: 1px solid gray;flex-grow: 1;}#sk-container-id-4 div.sk-label:hover label.sk-toggleable__label {background-color: #d4ebff;}#sk-container-id-4 div.sk-serial::before {content: \"\";position: absolute;border-left: 1px solid gray;box-sizing: border-box;top: 0;bottom: 0;left: 50%;z-index: 0;}#sk-container-id-4 div.sk-serial {display: flex;flex-direction: column;align-items: center;background-color: white;padding-right: 0.2em;padding-left: 0.2em;position: relative;}#sk-container-id-4 div.sk-item {position: relative;z-index: 1;}#sk-container-id-4 div.sk-parallel {display: flex;align-items: stretch;justify-content: center;background-color: white;position: relative;}#sk-container-id-4 div.sk-item::before, #sk-container-id-4 div.sk-parallel-item::before {content: \"\";position: absolute;border-left: 1px solid gray;box-sizing: border-box;top: 0;bottom: 0;left: 50%;z-index: -1;}#sk-container-id-4 div.sk-parallel-item {display: flex;flex-direction: column;z-index: 1;position: relative;background-color: white;}#sk-container-id-4 div.sk-parallel-item:first-child::after {align-self: flex-end;width: 50%;}#sk-container-id-4 div.sk-parallel-item:last-child::after {align-self: flex-start;width: 50%;}#sk-container-id-4 div.sk-parallel-item:only-child::after {width: 0;}#sk-container-id-4 div.sk-dashed-wrapped {border: 1px dashed gray;margin: 0 0.4em 0.5em 0.4em;box-sizing: border-box;padding-bottom: 0.4em;background-color: white;}#sk-container-id-4 div.sk-label label {font-family: monospace;font-weight: bold;display: inline-block;line-height: 1.2em;}#sk-container-id-4 div.sk-label-container {text-align: center;}#sk-container-id-4 div.sk-container {/* jupyter's `normalize.less` sets `[hidden] { display: none; }` but bootstrap.min.css set `[hidden] { display: none !important; }` so we also need the `!important` here to be able to override the default hidden behavior on the sphinx rendered scikit-learn.org. See: https://github.com/scikit-learn/scikit-learn/issues/21755 */display: inline-block !important;position: relative;}#sk-container-id-4 div.sk-text-repr-fallback {display: none;}</style><div id=\"sk-container-id-4\" class=\"sk-top-container\"><div class=\"sk-text-repr-fallback\"><pre>DecisionTreeClassifier(criterion=&#x27;entropy&#x27;, max_depth=4)</pre><b>In a Jupyter environment, please rerun this cell to show the HTML representation or trust the notebook. <br />On GitHub, the HTML representation is unable to render, please try loading this page with nbviewer.org.</b></div><div class=\"sk-container\" hidden><div class=\"sk-item\"><div class=\"sk-estimator sk-toggleable\"><input class=\"sk-toggleable__control sk-hidden--visually\" id=\"sk-estimator-id-4\" type=\"checkbox\" checked><label for=\"sk-estimator-id-4\" class=\"sk-toggleable__label sk-toggleable__label-arrow\">DecisionTreeClassifier</label><div class=\"sk-toggleable__content\"><pre>DecisionTreeClassifier(criterion=&#x27;entropy&#x27;, max_depth=4)</pre></div></div></div></div></div>"
            ]
          },
          "metadata": {},
          "execution_count": 49
        }
      ]
    },
    {
      "cell_type": "code",
      "source": [
        "purchasedTree.fit(X_trainset,y_trainset)"
      ],
      "metadata": {
        "colab": {
          "base_uri": "https://localhost:8080/",
          "height": 74
        },
        "id": "O3UQn8lQNQYb",
        "outputId": "5a0a04be-9989-4317-a381-96f7791f8d43"
      },
      "execution_count": null,
      "outputs": [
        {
          "output_type": "execute_result",
          "data": {
            "text/plain": [
              "DecisionTreeClassifier(criterion='entropy', max_depth=4)"
            ],
            "text/html": [
              "<style>#sk-container-id-5 {color: black;background-color: white;}#sk-container-id-5 pre{padding: 0;}#sk-container-id-5 div.sk-toggleable {background-color: white;}#sk-container-id-5 label.sk-toggleable__label {cursor: pointer;display: block;width: 100%;margin-bottom: 0;padding: 0.3em;box-sizing: border-box;text-align: center;}#sk-container-id-5 label.sk-toggleable__label-arrow:before {content: \"▸\";float: left;margin-right: 0.25em;color: #696969;}#sk-container-id-5 label.sk-toggleable__label-arrow:hover:before {color: black;}#sk-container-id-5 div.sk-estimator:hover label.sk-toggleable__label-arrow:before {color: black;}#sk-container-id-5 div.sk-toggleable__content {max-height: 0;max-width: 0;overflow: hidden;text-align: left;background-color: #f0f8ff;}#sk-container-id-5 div.sk-toggleable__content pre {margin: 0.2em;color: black;border-radius: 0.25em;background-color: #f0f8ff;}#sk-container-id-5 input.sk-toggleable__control:checked~div.sk-toggleable__content {max-height: 200px;max-width: 100%;overflow: auto;}#sk-container-id-5 input.sk-toggleable__control:checked~label.sk-toggleable__label-arrow:before {content: \"▾\";}#sk-container-id-5 div.sk-estimator input.sk-toggleable__control:checked~label.sk-toggleable__label {background-color: #d4ebff;}#sk-container-id-5 div.sk-label input.sk-toggleable__control:checked~label.sk-toggleable__label {background-color: #d4ebff;}#sk-container-id-5 input.sk-hidden--visually {border: 0;clip: rect(1px 1px 1px 1px);clip: rect(1px, 1px, 1px, 1px);height: 1px;margin: -1px;overflow: hidden;padding: 0;position: absolute;width: 1px;}#sk-container-id-5 div.sk-estimator {font-family: monospace;background-color: #f0f8ff;border: 1px dotted black;border-radius: 0.25em;box-sizing: border-box;margin-bottom: 0.5em;}#sk-container-id-5 div.sk-estimator:hover {background-color: #d4ebff;}#sk-container-id-5 div.sk-parallel-item::after {content: \"\";width: 100%;border-bottom: 1px solid gray;flex-grow: 1;}#sk-container-id-5 div.sk-label:hover label.sk-toggleable__label {background-color: #d4ebff;}#sk-container-id-5 div.sk-serial::before {content: \"\";position: absolute;border-left: 1px solid gray;box-sizing: border-box;top: 0;bottom: 0;left: 50%;z-index: 0;}#sk-container-id-5 div.sk-serial {display: flex;flex-direction: column;align-items: center;background-color: white;padding-right: 0.2em;padding-left: 0.2em;position: relative;}#sk-container-id-5 div.sk-item {position: relative;z-index: 1;}#sk-container-id-5 div.sk-parallel {display: flex;align-items: stretch;justify-content: center;background-color: white;position: relative;}#sk-container-id-5 div.sk-item::before, #sk-container-id-5 div.sk-parallel-item::before {content: \"\";position: absolute;border-left: 1px solid gray;box-sizing: border-box;top: 0;bottom: 0;left: 50%;z-index: -1;}#sk-container-id-5 div.sk-parallel-item {display: flex;flex-direction: column;z-index: 1;position: relative;background-color: white;}#sk-container-id-5 div.sk-parallel-item:first-child::after {align-self: flex-end;width: 50%;}#sk-container-id-5 div.sk-parallel-item:last-child::after {align-self: flex-start;width: 50%;}#sk-container-id-5 div.sk-parallel-item:only-child::after {width: 0;}#sk-container-id-5 div.sk-dashed-wrapped {border: 1px dashed gray;margin: 0 0.4em 0.5em 0.4em;box-sizing: border-box;padding-bottom: 0.4em;background-color: white;}#sk-container-id-5 div.sk-label label {font-family: monospace;font-weight: bold;display: inline-block;line-height: 1.2em;}#sk-container-id-5 div.sk-label-container {text-align: center;}#sk-container-id-5 div.sk-container {/* jupyter's `normalize.less` sets `[hidden] { display: none; }` but bootstrap.min.css set `[hidden] { display: none !important; }` so we also need the `!important` here to be able to override the default hidden behavior on the sphinx rendered scikit-learn.org. See: https://github.com/scikit-learn/scikit-learn/issues/21755 */display: inline-block !important;position: relative;}#sk-container-id-5 div.sk-text-repr-fallback {display: none;}</style><div id=\"sk-container-id-5\" class=\"sk-top-container\"><div class=\"sk-text-repr-fallback\"><pre>DecisionTreeClassifier(criterion=&#x27;entropy&#x27;, max_depth=4)</pre><b>In a Jupyter environment, please rerun this cell to show the HTML representation or trust the notebook. <br />On GitHub, the HTML representation is unable to render, please try loading this page with nbviewer.org.</b></div><div class=\"sk-container\" hidden><div class=\"sk-item\"><div class=\"sk-estimator sk-toggleable\"><input class=\"sk-toggleable__control sk-hidden--visually\" id=\"sk-estimator-id-5\" type=\"checkbox\" checked><label for=\"sk-estimator-id-5\" class=\"sk-toggleable__label sk-toggleable__label-arrow\">DecisionTreeClassifier</label><div class=\"sk-toggleable__content\"><pre>DecisionTreeClassifier(criterion=&#x27;entropy&#x27;, max_depth=4)</pre></div></div></div></div></div>"
            ]
          },
          "metadata": {},
          "execution_count": 50
        }
      ]
    },
    {
      "cell_type": "markdown",
      "source": [
        "##Prediction"
      ],
      "metadata": {
        "id": "-fDcnCCmNguU"
      }
    },
    {
      "cell_type": "code",
      "source": [
        "predTree = purchasedTree.predict(X_testset)"
      ],
      "metadata": {
        "id": "jaY8hS7hNhNN"
      },
      "execution_count": null,
      "outputs": []
    },
    {
      "cell_type": "code",
      "source": [
        "print (predTree [0:5])\n",
        "print (y_testset [0:5])"
      ],
      "metadata": {
        "colab": {
          "base_uri": "https://localhost:8080/"
        },
        "id": "60WaNiEBNkq0",
        "outputId": "df9c9a46-8e14-479e-ac44-1725eb8b2ca1"
      },
      "execution_count": null,
      "outputs": [
        {
          "output_type": "stream",
          "name": "stdout",
          "text": [
            "[0 1 1 0 0]\n",
            "[0 1 1 0 0]\n"
          ]
        }
      ]
    },
    {
      "cell_type": "code",
      "source": [
        "from sklearn import metrics\n",
        "import matplotlib.pyplot as plt\n",
        "print(\"DecisionTrees's Accuracy: \", metrics.accuracy_score(y_testset, predTree))"
      ],
      "metadata": {
        "colab": {
          "base_uri": "https://localhost:8080/"
        },
        "id": "7IewX1csNnOW",
        "outputId": "fc51e34d-fd77-4d50-a2c1-24fb84dc8fae"
      },
      "execution_count": null,
      "outputs": [
        {
          "output_type": "stream",
          "name": "stdout",
          "text": [
            "DecisionTrees's Accuracy:  0.925\n"
          ]
        }
      ]
    },
    {
      "cell_type": "markdown",
      "source": [
        "# 2.6 Đánh giá và kết luận"
      ],
      "metadata": {
        "id": "rvBir6RfMtLl"
      }
    },
    {
      "cell_type": "markdown",
      "source": [
        "**Mô hình KNN với k thay đổi**"
      ],
      "metadata": {
        "id": "2HlNKIwNa8As"
      }
    },
    {
      "cell_type": "code",
      "source": [
        "from sklearn.metrics import confusion_matrix\n",
        "confusion_matrix1 = confusion_matrix(y_test,y_pred)\n",
        "cm1_display = metrics.ConfusionMatrixDisplay(confusion_matrix = confusion_matrix1, display_labels = [False, True])\n",
        "cm1_display.plot()\n",
        "plt.show()\n"
      ],
      "metadata": {
        "colab": {
          "base_uri": "https://localhost:8080/",
          "height": 279
        },
        "id": "OQWeH0OhRqEl",
        "outputId": "52f41625-1b11-4dac-d589-5384e3ee4e41"
      },
      "execution_count": null,
      "outputs": [
        {
          "output_type": "display_data",
          "data": {
            "text/plain": [
              "<Figure size 432x288 with 2 Axes>"
            ],
            "image/png": "[encoded data removed]"
          },
          "metadata": {
            "needs_background": "light"
          }
        }
      ]
    },
    {
      "cell_type": "code",
      "source": [
        "#import KNeighborsClassifier\n",
        "from sklearn.neighbors import KNeighborsClassifier\n",
        "\n",
        "#Setup neighbors arrays\n",
        "neighbors = np.arange(1,60)\n",
        "train_score =np.empty(len(neighbors))\n",
        "test_score = np.empty(len(neighbors))\n",
        "\n",
        "for i,k in enumerate(neighbors):\n",
        "    #Setup a knn classifier with k neighbors\n",
        "    knn = KNeighborsClassifier(n_neighbors=k)\n",
        "    \n",
        "    #Fit the model\n",
        "    knn.fit(X_train, y_train)\n",
        "    \n",
        "    #Compute accuracy on the training set\n",
        "    train_score[i] = knn.score(X_train, y_train)\n",
        "    \n",
        "    #Compute accuracy on the test set\n",
        "    test_score[i] = knn.score(X_test, y_test) "
      ],
      "metadata": {
        "id": "JpTZwLtCMuIX"
      },
      "execution_count": null,
      "outputs": []
    },
    {
      "cell_type": "code",
      "source": [
        "#Generate plot\n",
        "plt.figure(figsize=(20,8))\n",
        "plt.title('k-NN Varying number of neighbors')\n",
        "plt.plot(neighbors, test_score, marker='*', label='Testing Score')\n",
        "plt.plot(neighbors, train_score, marker='o', label='Training Score')\n",
        "plt.legend()\n",
        "plt.xlabel('Number of neighbors')\n",
        "plt.ylabel('Accuracy Score')\n",
        "plt.show()"
      ],
      "metadata": {
        "colab": {
          "base_uri": "https://localhost:8080/",
          "height": 513
        },
        "id": "sSwkGknxQjt8",
        "outputId": "5d2ed982-f95a-479a-e706-33084b8b9123"
      },
      "execution_count": null,
      "outputs": [
        {
          "output_type": "display_data",
          "data": {
            "text/plain": [
              "<Figure size 1440x576 with 1 Axes>"
            ],
            "image/png": "[encoded data removed]"
          },
          "metadata": {
            "needs_background": "light"
          }
        }
      ]
    },
    {
      "cell_type": "code",
      "source": [
        "## score that comes from testing on the same datapoints that were used for training\n",
        "max_train_score = max(train_score)\n",
        "min_train_score = min(train_score)\n",
        "max_train_scores_ind = [i for i, v in enumerate(train_score) if v == max_train_score]\n",
        "min_train_scores_ind = [i for i, v in enumerate(train_score) if v == min_train_score]\n",
        "print('Max train score {} % and k = {}'.format(max_train_score*100,list(map(lambda x: x+1, max_train_scores_ind))))\n",
        "print('Min train score {} % and k = {}'.format(min_train_score*100,list(map(lambda x: x+1, min_train_scores_ind))))"
      ],
      "metadata": {
        "colab": {
          "base_uri": "https://localhost:8080/"
        },
        "id": "YC0NmOdrRjdl",
        "outputId": "cb9b5689-95d2-4a68-985a-74260dec92a4"
      },
      "execution_count": null,
      "outputs": [
        {
          "output_type": "stream",
          "name": "stdout",
          "text": [
            "Max train score 99.6875 % and k = [1]\n",
            "Min train score 88.4375 % and k = [44, 56]\n"
          ]
        }
      ]
    },
    {
      "cell_type": "code",
      "source": [
        "## score that comes from testing on the datapoints that were split in the beginning to be used for testing solely\n",
        "max_test_score = max(test_score)\n",
        "min_test_score = min(test_score)\n",
        "max_test_scores_ind = [i for i, v in enumerate(test_score) if v == max_test_score]\n",
        "min_test_scores_ind = [i for i, v in enumerate(test_score) if v == min_test_score]\n",
        "print('Max test score {} % and k = {}'.format(max_test_score*100,list(map(lambda x: x+1, max_test_scores_ind))))\n",
        "print('Min test score {} % and k = {}'.format(min_test_score*100,list(map(lambda x: x+1, min_test_scores_ind))))"
      ],
      "metadata": {
        "colab": {
          "base_uri": "https://localhost:8080/"
        },
        "id": "it7FfC-jRnex",
        "outputId": "ce9bfe0c-9586-4d34-8c67-13cab755fa9b"
      },
      "execution_count": null,
      "outputs": [
        {
          "output_type": "stream",
          "name": "stdout",
          "text": [
            "Max test score 95.0 % and k = [3, 4, 5, 6, 7, 8, 9, 10, 11, 12, 13, 14, 15, 16, 17, 18, 19, 20, 21, 22, 23, 24, 25, 26, 27, 28, 29, 30, 31, 32, 33, 34, 35, 36, 37, 38, 39, 40, 41, 42, 43, 44, 45]\n",
            "Min test score 87.5 % and k = [1]\n"
          ]
        }
      ]
    },
    {
      "cell_type": "code",
      "source": [
        "#import GridSearchCV\n",
        "from sklearn.model_selection import GridSearchCV\n",
        "#In case of classifier like knn the parameter to be tuned is n_neighbors\n",
        "param_grid = {'n_neighbors':np.arange(1,60)}\n",
        "knn = KNeighborsClassifier()\n",
        "knn_cv= GridSearchCV(knn,param_grid,cv=5)\n",
        "knn_cv.fit(X_train, y_train)\n",
        "\n",
        "print(\"Best Score:\" + str(knn_cv.best_score_))\n",
        "print(\"Best Parameters: \" + str(knn_cv.best_params_))"
      ],
      "metadata": {
        "colab": {
          "base_uri": "https://localhost:8080/"
        },
        "id": "IhIKqPxLauYE",
        "outputId": "777187b2-c04d-48f1-c7b8-42e390839347"
      },
      "execution_count": null,
      "outputs": [
        {
          "output_type": "stream",
          "name": "stdout",
          "text": [
            "Best Score:0.903125\n",
            "Best Parameters: {'n_neighbors': 9}\n"
          ]
        }
      ]
    },
    {
      "cell_type": "code",
      "source": [
        "from sklearn.metrics import accuracy_score, roc_auc_score, recall_score, f1_score, precision_score\n",
        "knn = KNeighborsClassifier(n_neighbors=9)\n",
        "knn.fit(X_train,y_train)\n",
        "y_pred = knn.predict(X_test)\n",
        "acc = accuracy_score(y_test, y_pred)\n",
        "roc = roc_auc_score(y_test, y_pred)\n",
        "rec = recall_score(y_test, y_pred)\n",
        "f1s = f1_score(y_test, y_pred)\n",
        "pre = precision_score(y_test, y_pred)\n",
        "print('Accuracy Score: ' + str(acc))\n",
        "print('ROC AUC Score: ' + str(roc))\n",
        "print('Recall Score: ' + str(rec))\n",
        "print('F1 Score: ' + str(f1s))\n",
        "print('Precision Score: ' + str(pre))"
      ],
      "metadata": {
        "colab": {
          "base_uri": "https://localhost:8080/"
        },
        "id": "TC3VSgJHawEZ",
        "outputId": "881cf550-324d-431e-c11b-4c39a980c82f"
      },
      "execution_count": null,
      "outputs": [
        {
          "output_type": "stream",
          "name": "stdout",
          "text": [
            "Accuracy Score: 0.95\n",
            "ROC AUC Score: 0.95141065830721\n",
            "Recall Score: 0.9545454545454546\n",
            "F1 Score: 0.9130434782608695\n",
            "Precision Score: 0.875\n"
          ]
        }
      ]
    },
    {
      "cell_type": "code",
      "source": [
        "from sklearn.metrics import roc_curve\n",
        "fpr, tpr, thresholds = roc_curve(y_test, y_pred)\n",
        "plt.plot([0,1],[0,1],'k--')\n",
        "plt.plot(fpr,tpr, label='Knn')\n",
        "plt.xlabel('fpr')\n",
        "plt.ylabel('tpr')\n",
        "plt.title('Knn(n_neighbors=9) ROC curve')\n",
        "plt.show()"
      ],
      "metadata": {
        "colab": {
          "base_uri": "https://localhost:8080/",
          "height": 295
        },
        "id": "kGF5RDPkax6M",
        "outputId": "9616fa25-44d9-41f9-d2bc-f37583d012c3"
      },
      "execution_count": null,
      "outputs": [
        {
          "output_type": "display_data",
          "data": {
            "text/plain": [
              "<Figure size 432x288 with 1 Axes>"
            ],
            "image/png": "[encoded data removed]"
          },
          "metadata": {
            "needs_background": "light"
          }
        }
      ]
    },
    {
      "cell_type": "code",
      "source": [
        "from sklearn.metrics import confusion_matrix\n",
        "from sklearn import metrics\n",
        "confusion_matrix1 = confusion_matrix(y_test,y_pred)\n",
        "\n",
        "cm1_display = metrics.ConfusionMatrixDisplay(confusion_matrix = confusion_matrix1, display_labels = [False, True])\n",
        "\n",
        "cm1_display.plot()\n",
        "\n",
        "plt.show()\n"
      ],
      "metadata": {
        "colab": {
          "base_uri": "https://localhost:8080/",
          "height": 279
        },
        "id": "HS43wZRoazuL",
        "outputId": "b1faabdb-7bec-4710-bf63-7a4c3f263958"
      },
      "execution_count": null,
      "outputs": [
        {
          "output_type": "display_data",
          "data": {
            "text/plain": [
              "<Figure size 432x288 with 2 Axes>"
            ],
            "image/png": "[encoded data removed]"
          },
          "metadata": {
            "needs_background": "light"
          }
        }
      ]
    },
    {
      "cell_type": "code",
      "source": [
        "#import classification_report\n",
        "from sklearn.metrics import classification_report\n",
        "print(classification_report(y_test,y_pred))"
      ],
      "metadata": {
        "colab": {
          "base_uri": "https://localhost:8080/"
        },
        "id": "GV4eoCiMa1cF",
        "outputId": "08695a19-6b67-4f7c-e970-db6679a420f5"
      },
      "execution_count": null,
      "outputs": [
        {
          "output_type": "stream",
          "name": "stdout",
          "text": [
            "              precision    recall  f1-score   support\n",
            "\n",
            "           0       0.98      0.95      0.96        58\n",
            "           1       0.88      0.95      0.91        22\n",
            "\n",
            "    accuracy                           0.95        80\n",
            "   macro avg       0.93      0.95      0.94        80\n",
            "weighted avg       0.95      0.95      0.95        80\n",
            "\n"
          ]
        }
      ]
    },
    {
      "cell_type": "markdown",
      "source": [
        "**Mô hình KNN với lời nguyền của chiều dữ liệu**"
      ],
      "metadata": {
        "id": "CcbwuPVAa9fT"
      }
    },
    {
      "cell_type": "code",
      "source": [
        "classifier = KNeighborsClassifier(n_neighbors = 9, metric = 'minkowski', p = 2)\n",
        "classifier.fit(X_train_pca, y_train)"
      ],
      "metadata": {
        "colab": {
          "base_uri": "https://localhost:8080/",
          "height": 74
        },
        "id": "DL1AXD-CbA5V",
        "outputId": "2abe848b-0542-4bdf-c5aa-95625e670307"
      },
      "execution_count": null,
      "outputs": [
        {
          "output_type": "execute_result",
          "data": {
            "text/plain": [
              "KNeighborsClassifier(n_neighbors=9)"
            ],
            "text/html": [
              "<style>#sk-container-id-6 {color: black;background-color: white;}#sk-container-id-6 pre{padding: 0;}#sk-container-id-6 div.sk-toggleable {background-color: white;}#sk-container-id-6 label.sk-toggleable__label {cursor: pointer;display: block;width: 100%;margin-bottom: 0;padding: 0.3em;box-sizing: border-box;text-align: center;}#sk-container-id-6 label.sk-toggleable__label-arrow:before {content: \"▸\";float: left;margin-right: 0.25em;color: #696969;}#sk-container-id-6 label.sk-toggleable__label-arrow:hover:before {color: black;}#sk-container-id-6 div.sk-estimator:hover label.sk-toggleable__label-arrow:before {color: black;}#sk-container-id-6 div.sk-toggleable__content {max-height: 0;max-width: 0;overflow: hidden;text-align: left;background-color: #f0f8ff;}#sk-container-id-6 div.sk-toggleable__content pre {margin: 0.2em;color: black;border-radius: 0.25em;background-color: #f0f8ff;}#sk-container-id-6 input.sk-toggleable__control:checked~div.sk-toggleable__content {max-height: 200px;max-width: 100%;overflow: auto;}#sk-container-id-6 input.sk-toggleable__control:checked~label.sk-toggleable__label-arrow:before {content: \"▾\";}#sk-container-id-6 div.sk-estimator input.sk-toggleable__control:checked~label.sk-toggleable__label {background-color: #d4ebff;}#sk-container-id-6 div.sk-label input.sk-toggleable__control:checked~label.sk-toggleable__label {background-color: #d4ebff;}#sk-container-id-6 input.sk-hidden--visually {border: 0;clip: rect(1px 1px 1px 1px);clip: rect(1px, 1px, 1px, 1px);height: 1px;margin: -1px;overflow: hidden;padding: 0;position: absolute;width: 1px;}#sk-container-id-6 div.sk-estimator {font-family: monospace;background-color: #f0f8ff;border: 1px dotted black;border-radius: 0.25em;box-sizing: border-box;margin-bottom: 0.5em;}#sk-container-id-6 div.sk-estimator:hover {background-color: #d4ebff;}#sk-container-id-6 div.sk-parallel-item::after {content: \"\";width: 100%;border-bottom: 1px solid gray;flex-grow: 1;}#sk-container-id-6 div.sk-label:hover label.sk-toggleable__label {background-color: #d4ebff;}#sk-container-id-6 div.sk-serial::before {content: \"\";position: absolute;border-left: 1px solid gray;box-sizing: border-box;top: 0;bottom: 0;left: 50%;z-index: 0;}#sk-container-id-6 div.sk-serial {display: flex;flex-direction: column;align-items: center;background-color: white;padding-right: 0.2em;padding-left: 0.2em;position: relative;}#sk-container-id-6 div.sk-item {position: relative;z-index: 1;}#sk-container-id-6 div.sk-parallel {display: flex;align-items: stretch;justify-content: center;background-color: white;position: relative;}#sk-container-id-6 div.sk-item::before, #sk-container-id-6 div.sk-parallel-item::before {content: \"\";position: absolute;border-left: 1px solid gray;box-sizing: border-box;top: 0;bottom: 0;left: 50%;z-index: -1;}#sk-container-id-6 div.sk-parallel-item {display: flex;flex-direction: column;z-index: 1;position: relative;background-color: white;}#sk-container-id-6 div.sk-parallel-item:first-child::after {align-self: flex-end;width: 50%;}#sk-container-id-6 div.sk-parallel-item:last-child::after {align-self: flex-start;width: 50%;}#sk-container-id-6 div.sk-parallel-item:only-child::after {width: 0;}#sk-container-id-6 div.sk-dashed-wrapped {border: 1px dashed gray;margin: 0 0.4em 0.5em 0.4em;box-sizing: border-box;padding-bottom: 0.4em;background-color: white;}#sk-container-id-6 div.sk-label label {font-family: monospace;font-weight: bold;display: inline-block;line-height: 1.2em;}#sk-container-id-6 div.sk-label-container {text-align: center;}#sk-container-id-6 div.sk-container {/* jupyter's `normalize.less` sets `[hidden] { display: none; }` but bootstrap.min.css set `[hidden] { display: none !important; }` so we also need the `!important` here to be able to override the default hidden behavior on the sphinx rendered scikit-learn.org. See: https://github.com/scikit-learn/scikit-learn/issues/21755 */display: inline-block !important;position: relative;}#sk-container-id-6 div.sk-text-repr-fallback {display: none;}</style><div id=\"sk-container-id-6\" class=\"sk-top-container\"><div class=\"sk-text-repr-fallback\"><pre>KNeighborsClassifier(n_neighbors=9)</pre><b>In a Jupyter environment, please rerun this cell to show the HTML representation or trust the notebook. <br />On GitHub, the HTML representation is unable to render, please try loading this page with nbviewer.org.</b></div><div class=\"sk-container\" hidden><div class=\"sk-item\"><div class=\"sk-estimator sk-toggleable\"><input class=\"sk-toggleable__control sk-hidden--visually\" id=\"sk-estimator-id-6\" type=\"checkbox\" checked><label for=\"sk-estimator-id-6\" class=\"sk-toggleable__label sk-toggleable__label-arrow\">KNeighborsClassifier</label><div class=\"sk-toggleable__content\"><pre>KNeighborsClassifier(n_neighbors=9)</pre></div></div></div></div></div>"
            ]
          },
          "metadata": {},
          "execution_count": 64
        }
      ]
    },
    {
      "cell_type": "code",
      "source": [
        "y_pred1 = classifier.predict(X_test_pca)\n",
        "acc1 = accuracy_score(y_test, y_pred1)\n",
        "roc1 = roc_auc_score(y_test, y_pred1)\n",
        "rec1 = recall_score(y_test, y_pred1)\n",
        "f1s1 = f1_score(y_test, y_pred1)\n",
        "pre1 = precision_score(y_test, y_pred1)\n",
        "print('Accuracy Score: ' + str(acc1))\n",
        "print('ROC AUC Score: ' + str(roc1))\n",
        "print('Recall Score: ' + str(rec1))\n",
        "print('F1 Score: ' + str(f1s1))\n",
        "print('Precision Score: ' + str(pre1))"
      ],
      "metadata": {
        "colab": {
          "base_uri": "https://localhost:8080/"
        },
        "id": "VlNUbI_9b7kF",
        "outputId": "774031d2-5d58-431a-b329-2eaec42c02dd"
      },
      "execution_count": null,
      "outputs": [
        {
          "output_type": "stream",
          "name": "stdout",
          "text": [
            "Accuracy Score: 0.875\n",
            "ROC AUC Score: 0.829153605015674\n",
            "Recall Score: 0.7272727272727273\n",
            "F1 Score: 0.761904761904762\n",
            "Precision Score: 0.8\n"
          ]
        }
      ]
    },
    {
      "cell_type": "code",
      "source": [
        "fpr1, tpr1, thresholds1 = roc_curve(y_test, y_pred1)\n",
        "plt.plot([0,1],[0,1],'k--')\n",
        "plt.plot(fpr1,tpr1, label='Knn')\n",
        "plt.xlabel('fpr')\n",
        "plt.ylabel('tpr')\n",
        "plt.title('Knn(n_neighbors=9, n_features=1) ROC curve')\n",
        "plt.show()"
      ],
      "metadata": {
        "colab": {
          "base_uri": "https://localhost:8080/",
          "height": 295
        },
        "id": "nuUM2QrXb9k0",
        "outputId": "6842b96d-029a-4eff-b9e8-f0453b230084"
      },
      "execution_count": null,
      "outputs": [
        {
          "output_type": "display_data",
          "data": {
            "text/plain": [
              "<Figure size 432x288 with 1 Axes>"
            ],
            "image/png": "[encoded data removed]"
          },
          "metadata": {
            "needs_background": "light"
          }
        }
      ]
    },
    {
      "cell_type": "code",
      "source": [
        "import matplotlib.pyplot as plt\n",
        "import numpy\n",
        "from sklearn import metrics\n",
        "\n",
        "confusion_matrix = metrics.confusion_matrix(y_test, y_pred1)\n",
        "\n",
        "cm_display = metrics.ConfusionMatrixDisplay(confusion_matrix = confusion_matrix, display_labels = [False, True])\n",
        "\n",
        "cm_display.plot()\n",
        "plt.show()"
      ],
      "metadata": {
        "colab": {
          "base_uri": "https://localhost:8080/",
          "height": 279
        },
        "id": "wQg_AXllcBR8",
        "outputId": "2968a397-e548-4403-805e-ea31e411e6b7"
      },
      "execution_count": null,
      "outputs": [
        {
          "output_type": "display_data",
          "data": {
            "text/plain": [
              "<Figure size 432x288 with 2 Axes>"
            ],
            "image/png": "[encoded data removed]"
          },
          "metadata": {
            "needs_background": "light"
          }
        }
      ]
    },
    {
      "cell_type": "code",
      "source": [
        "from sklearn.metrics import classification_report\n",
        "target_names = ['class 0', 'class 1']\n",
        "print(classification_report(y_test, y_pred1, target_names=target_names))"
      ],
      "metadata": {
        "colab": {
          "base_uri": "https://localhost:8080/"
        },
        "id": "X8ogRa4XcDX1",
        "outputId": "db721b99-ce14-4643-ac52-4da6400c2354"
      },
      "execution_count": null,
      "outputs": [
        {
          "output_type": "stream",
          "name": "stdout",
          "text": [
            "              precision    recall  f1-score   support\n",
            "\n",
            "     class 0       0.90      0.93      0.92        58\n",
            "     class 1       0.80      0.73      0.76        22\n",
            "\n",
            "    accuracy                           0.88        80\n",
            "   macro avg       0.85      0.83      0.84        80\n",
            "weighted avg       0.87      0.88      0.87        80\n",
            "\n"
          ]
        }
      ]
    },
    {
      "cell_type": "markdown",
      "source": [
        "**Mô hình Decision Tree**"
      ],
      "metadata": {
        "id": "Ds752Fk6cIZN"
      }
    },
    {
      "cell_type": "code",
      "source": [
        "acc2 = accuracy_score(y_testset, predTree)\n",
        "roc2 = roc_auc_score(y_testset, predTree)\n",
        "rec2 = recall_score(y_testset, predTree)\n",
        "f1s2 = f1_score(y_testset, predTree)\n",
        "pre2 = precision_score(y_testset, predTree)\n",
        "print(\"DecisionTrees's Accuracy Score: \" + str(acc2))\n",
        "print(\"DecisionTrees's ROC AUC Score: \" + str(roc2))\n",
        "print(\"DecisionTrees's Recall Score: \" + str(rec2))\n",
        "print(\"DecisionTrees's F1 Score: \" + str(f1s2))\n",
        "print(\"DecisionTrees's Precision Score: \" + str(pre2))"
      ],
      "metadata": {
        "colab": {
          "base_uri": "https://localhost:8080/"
        },
        "id": "APDimZaAcDc5",
        "outputId": "f870acab-15fa-465f-efee-9a5c2588f104"
      },
      "execution_count": null,
      "outputs": [
        {
          "output_type": "stream",
          "name": "stdout",
          "text": [
            "DecisionTrees's Accuracy Score: 0.925\n",
            "DecisionTrees's ROC AUC Score: 0.9127272727272727\n",
            "DecisionTrees's Recall Score: 0.88\n",
            "DecisionTrees's F1 Score: 0.88\n",
            "DecisionTrees's Precision Score: 0.88\n"
          ]
        }
      ]
    },
    {
      "cell_type": "code",
      "source": [
        "fpr2, tpr2, thresholds2 = roc_curve(y_testset, predTree)\n",
        "plt.plot([0,1],[0,1],'k--')\n",
        "plt.plot(fpr2,tpr2, label='DecisionTree')\n",
        "plt.xlabel('fpr')\n",
        "plt.ylabel('tpr')\n",
        "plt.title('DecisionTree ROC curve')\n",
        "plt.show()"
      ],
      "metadata": {
        "id": "gxiQUARfcy3Y",
        "outputId": "cbaa6717-55de-448a-bcb6-f10cf544540f",
        "colab": {
          "base_uri": "https://localhost:8080/",
          "height": 295
        }
      },
      "execution_count": null,
      "outputs": [
        {
          "output_type": "display_data",
          "data": {
            "text/plain": [
              "<Figure size 432x288 with 1 Axes>"
            ],
            "image/png": "[encoded data removed]"
          },
          "metadata": {
            "needs_background": "light"
          }
        }
      ]
    },
    {
      "cell_type": "code",
      "source": [
        "import matplotlib.pyplot as plt\n",
        "import numpy\n",
        "from sklearn import metrics\n",
        "\n",
        "confusion_matrix2 = metrics.confusion_matrix(y_testset, predTree)\n",
        "\n",
        "cm2_display = metrics.ConfusionMatrixDisplay(confusion_matrix = confusion_matrix2, display_labels = [False, True])\n",
        "\n",
        "cm2_display.plot()\n",
        "plt.show()"
      ],
      "metadata": {
        "id": "WNmVnPPqkRmN",
        "colab": {
          "base_uri": "https://localhost:8080/",
          "height": 279
        },
        "outputId": "c47b537d-3570-4aa0-f470-e2370648d5f2"
      },
      "execution_count": null,
      "outputs": [
        {
          "output_type": "display_data",
          "data": {
            "text/plain": [
              "<Figure size 432x288 with 2 Axes>"
            ],
            "image/png": "[encoded data removed]"
          },
          "metadata": {
            "needs_background": "light"
          }
        }
      ]
    },
    {
      "cell_type": "code",
      "source": [
        "from sklearn.metrics import classification_report\n",
        "target_names = ['class 0', 'class 1']\n",
        "print(classification_report(y_testset, predTree, target_names=target_names))"
      ],
      "metadata": {
        "id": "RkzbNy7VkUfu",
        "colab": {
          "base_uri": "https://localhost:8080/"
        },
        "outputId": "9ce7c0bd-21c2-4bc1-8775-dc77844b402d"
      },
      "execution_count": null,
      "outputs": [
        {
          "output_type": "stream",
          "name": "stdout",
          "text": [
            "              precision    recall  f1-score   support\n",
            "\n",
            "     class 0       0.95      0.95      0.95        55\n",
            "     class 1       0.88      0.88      0.88        25\n",
            "\n",
            "    accuracy                           0.93        80\n",
            "   macro avg       0.91      0.91      0.91        80\n",
            "weighted avg       0.93      0.93      0.93        80\n",
            "\n"
          ]
        }
      ]
    },
    {
      "cell_type": "code",
      "source": [
        "acc_scores = [acc, acc1, acc2]\n",
        "roc_scores = [roc, roc1, roc2]\n",
        "rec_scores = [rec, rec1, rec2]\n",
        "f1s_scores = [f1s, f1s1, f1s2]\n",
        "pre_scores = [pre, pre1, pre2]\n",
        "models = ['KNN optimal number of neighbors', 'KNN n_features = 1', 'Decision Tree']\n",
        "plt.figure(figsize = (12,6))\n",
        "plt.plot(models, acc_scores, label='Accuracy Scores')\n",
        "plt.plot(models, roc_scores, label='Roc auc Scores')\n",
        "plt.plot(models, rec_scores, label='Recall Scores')\n",
        "plt.plot(models, f1s_scores, label='F1 Scores')\n",
        "plt.plot(models, pre_scores, label='Precision Scores')\n",
        "plt.xlabel('Scores')\n",
        "plt.ylabel('Models')\n",
        "plt.legend()\n",
        "plt.title('Models Evaluation')"
      ],
      "metadata": {
        "id": "0BKw1ciwc0vb",
        "outputId": "3a156dad-e241-4dd1-fa45-2d48ab919e4d",
        "colab": {
          "base_uri": "https://localhost:8080/",
          "height": 423
        }
      },
      "execution_count": null,
      "outputs": [
        {
          "output_type": "execute_result",
          "data": {
            "text/plain": [
              "Text(0.5, 1.0, 'Models Evaluation')"
            ]
          },
          "metadata": {},
          "execution_count": 73
        },
        {
          "output_type": "display_data",
          "data": {
            "text/plain": [
              "<Figure size 864x432 with 1 Axes>"
            ],
            "image/png": "[encoded data removed]"
          },
          "metadata": {
            "needs_background": "light"
          }
        }
      ]
    }
  ]
}